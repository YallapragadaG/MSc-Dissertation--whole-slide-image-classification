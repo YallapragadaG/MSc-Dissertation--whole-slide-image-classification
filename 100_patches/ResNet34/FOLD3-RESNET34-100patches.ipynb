{
  "nbformat": 4,
  "nbformat_minor": 0,
  "metadata": {
    "colab": {
      "name": "FOLD 3 RESNET34 FAYYAZ 100 experiments.ipynb",
      "provenance": []
    },
    "kernelspec": {
      "name": "python3",
      "display_name": "Python 3"
    },
    "accelerator": "GPU"
  },
  "cells": [
    {
      "cell_type": "code",
      "metadata": {
        "id": "p-nQd6nHVuEP",
        "outputId": "ea4b0c97-9bfb-457a-fed3-7e9c26e766e4",
        "colab": {
          "base_uri": "https://localhost:8080/",
          "height": 309
        }
      },
      "source": [
        "#loading the dataset and extracting from the zip file\n",
        "!unzip drive/My\\ Drive/fold3_100.zip\n",
        "#installing relevent modules for resnet34 model\n",
        "!pip install git+https://github.com/qubvel/classification_models.git"
      ],
      "execution_count": 1,
      "outputs": [
        {
          "output_type": "stream",
          "text": [
            "Archive:  drive/My Drive/fold3_100.zip\n",
            "replace __MACOSX/._fold3_100? [y]es, [n]o, [A]ll, [N]one, [r]ename: N\n",
            "Collecting git+https://github.com/qubvel/classification_models.git\n",
            "  Cloning https://github.com/qubvel/classification_models.git to /tmp/pip-req-build-qbt9fsh6\n",
            "  Running command git clone -q https://github.com/qubvel/classification_models.git /tmp/pip-req-build-qbt9fsh6\n",
            "  Running command git submodule update --init --recursive -q\n",
            "Requirement already satisfied (use --upgrade to upgrade): image-classifiers==1.0.0 from git+https://github.com/qubvel/classification_models.git in /usr/local/lib/python3.6/dist-packages\n",
            "Requirement already satisfied: keras_applications<=1.0.8,>=1.0.7 in /usr/local/lib/python3.6/dist-packages (from image-classifiers==1.0.0) (1.0.8)\n",
            "Requirement already satisfied: numpy>=1.9.1 in /usr/local/lib/python3.6/dist-packages (from keras_applications<=1.0.8,>=1.0.7->image-classifiers==1.0.0) (1.18.5)\n",
            "Requirement already satisfied: h5py in /usr/local/lib/python3.6/dist-packages (from keras_applications<=1.0.8,>=1.0.7->image-classifiers==1.0.0) (2.10.0)\n",
            "Requirement already satisfied: six in /usr/local/lib/python3.6/dist-packages (from h5py->keras_applications<=1.0.8,>=1.0.7->image-classifiers==1.0.0) (1.15.0)\n",
            "Building wheels for collected packages: image-classifiers\n",
            "  Building wheel for image-classifiers (setup.py) ... \u001b[?25l\u001b[?25hdone\n",
            "  Created wheel for image-classifiers: filename=image_classifiers-1.0.0-cp36-none-any.whl size=20032 sha256=728b808b7e3586123ed14d32ae6ceef1f289293846504ecec79668c9d42ee014\n",
            "  Stored in directory: /tmp/pip-ephem-wheel-cache-9t_dufm2/wheels/de/2b/fd/29a6d33edb8c28bc7d94e95ea1d39c9a218ac500a3cfb1b197\n",
            "Successfully built image-classifiers\n"
          ],
          "name": "stdout"
        }
      ]
    },
    {
      "cell_type": "code",
      "metadata": {
        "id": "ZwdtXve5WmXl"
      },
      "source": [
        "#related modules \n",
        "import keras\n",
        "import numpy as np\n",
        "from keras.models import Sequential\n",
        "from keras.layers.convolutional import Convolution2D\n",
        "from keras.layers import Dense, Dropout, Activation, Flatten\n",
        "from keras.layers import Conv2D, MaxPooling2D,AveragePooling2D\n",
        "from keras.layers.advanced_activations import LeakyReLU\n",
        "from keras.callbacks import EarlyStopping,ModelCheckpoint\n",
        "from keras.models import load_model\n",
        "from keras.layers.normalization import BatchNormalization\n",
        "from classification_models.keras import Classifiers\n",
        "from keras.preprocessing.image import ImageDataGenerator\n",
        "from sklearn.model_selection import KFold, StratifiedKFold\n",
        "from sklearn.metrics import confusion_matrix\n",
        "import matplotlib.pyplot as plt\n",
        "from sklearn.metrics import roc_curve,roc_auc_score,precision_recall_curve,auc\n",
        "from sklearn.metrics import average_precision_score\n",
        "import tensorflow as tf\n",
        "from sklearn.utils import class_weight\n",
        "from keras.callbacks import EarlyStopping\n",
        "from keras.preprocessing import image\n",
        "import os\n",
        "import glob\n",
        "import pandas as pd\n",
        "from fnmatch import fnmatch"
      ],
      "execution_count": 2,
      "outputs": []
    },
    {
      "cell_type": "code",
      "metadata": {
        "id": "UhuA_mktWqiQ",
        "outputId": "6c784212-4c87-4926-c56c-f9342c79c9e7",
        "colab": {
          "base_uri": "https://localhost:8080/",
          "height": 1000
        }
      },
      "source": [
        "train_path = \"fold3_100/Train\"\n",
        "val_path = \"fold3_100/Validation\"\n",
        "test_path =\"fold3_100/Test\"\n",
        "\n",
        "batch_size = 64\n",
        "\n",
        "loss_function ='categorical_crossentropy'\n",
        "patience = 10\n",
        "epoch = 50\n",
        "final_activation ='softmax'\n",
        "file_pattern = \"*.jpg\"\n",
        "folder_pattern = \"*TCGA-*\"\n",
        "\n",
        "\n",
        "Resnet34_model,preprocess_input = Classifiers.get('resnet34')\n",
        "base_resnet34model = Resnet34_model(input_shape=(224,224,3), weights='imagenet', include_top=False)\n",
        "base_resnet34model.summary()\n",
        "\n",
        "#reading train and validation data\n",
        "data_generator = ImageDataGenerator(rescale = 1./255,preprocessing_function=  preprocess_input)\n",
        "#loop and iterating through train images\n",
        "train_data_generator = data_generator.flow_from_directory(train_path,class_mode ='categorical',batch_size = batch_size,target_size = (224,224),shuffle =True)\n",
        "#iterating through images of validation set\n",
        "val_data_generator = data_generator.flow_from_directory(val_path,class_mode ='categorical',batch_size = batch_size,target_size = (224,224),shuffle = True)\n",
        "#class wight balance\n",
        "\n",
        "#class wight balance\n",
        "# classes = train_data_generator.classes\n",
        "class_weights_list = class_weight.compute_class_weight('balanced',np.unique(train_data_generator.classes),train_data_generator.classes)\n",
        "weights = dict(zip(np.unique(train_data_generator.classes),class_weights_list))\n",
        "print(\"weights ratio to make the dataset balanced: \",weights)\n",
        "\n",
        "print(\"class Indices of train generator :\",train_data_generator.class_indices)\n",
        "print(\"class Indices of validation generator :\",val_data_generator.class_indices)"
      ],
      "execution_count": 3,
      "outputs": [
        {
          "output_type": "stream",
          "text": [
            "Model: \"functional_1\"\n",
            "__________________________________________________________________________________________________\n",
            "Layer (type)                    Output Shape         Param #     Connected to                     \n",
            "==================================================================================================\n",
            "data (InputLayer)               [(None, 224, 224, 3) 0                                            \n",
            "__________________________________________________________________________________________________\n",
            "bn_data (BatchNormalization)    (None, 224, 224, 3)  9           data[0][0]                       \n",
            "__________________________________________________________________________________________________\n",
            "zero_padding2d (ZeroPadding2D)  (None, 230, 230, 3)  0           bn_data[0][0]                    \n",
            "__________________________________________________________________________________________________\n",
            "conv0 (Conv2D)                  (None, 112, 112, 64) 9408        zero_padding2d[0][0]             \n",
            "__________________________________________________________________________________________________\n",
            "bn0 (BatchNormalization)        (None, 112, 112, 64) 256         conv0[0][0]                      \n",
            "__________________________________________________________________________________________________\n",
            "relu0 (Activation)              (None, 112, 112, 64) 0           bn0[0][0]                        \n",
            "__________________________________________________________________________________________________\n",
            "zero_padding2d_1 (ZeroPadding2D (None, 114, 114, 64) 0           relu0[0][0]                      \n",
            "__________________________________________________________________________________________________\n",
            "pooling0 (MaxPooling2D)         (None, 56, 56, 64)   0           zero_padding2d_1[0][0]           \n",
            "__________________________________________________________________________________________________\n",
            "stage1_unit1_bn1 (BatchNormaliz (None, 56, 56, 64)   256         pooling0[0][0]                   \n",
            "__________________________________________________________________________________________________\n",
            "stage1_unit1_relu1 (Activation) (None, 56, 56, 64)   0           stage1_unit1_bn1[0][0]           \n",
            "__________________________________________________________________________________________________\n",
            "zero_padding2d_2 (ZeroPadding2D (None, 58, 58, 64)   0           stage1_unit1_relu1[0][0]         \n",
            "__________________________________________________________________________________________________\n",
            "stage1_unit1_conv1 (Conv2D)     (None, 56, 56, 64)   36864       zero_padding2d_2[0][0]           \n",
            "__________________________________________________________________________________________________\n",
            "stage1_unit1_bn2 (BatchNormaliz (None, 56, 56, 64)   256         stage1_unit1_conv1[0][0]         \n",
            "__________________________________________________________________________________________________\n",
            "stage1_unit1_relu2 (Activation) (None, 56, 56, 64)   0           stage1_unit1_bn2[0][0]           \n",
            "__________________________________________________________________________________________________\n",
            "zero_padding2d_3 (ZeroPadding2D (None, 58, 58, 64)   0           stage1_unit1_relu2[0][0]         \n",
            "__________________________________________________________________________________________________\n",
            "stage1_unit1_conv2 (Conv2D)     (None, 56, 56, 64)   36864       zero_padding2d_3[0][0]           \n",
            "__________________________________________________________________________________________________\n",
            "stage1_unit1_sc (Conv2D)        (None, 56, 56, 64)   4096        stage1_unit1_relu1[0][0]         \n",
            "__________________________________________________________________________________________________\n",
            "add (Add)                       (None, 56, 56, 64)   0           stage1_unit1_conv2[0][0]         \n",
            "                                                                 stage1_unit1_sc[0][0]            \n",
            "__________________________________________________________________________________________________\n",
            "stage1_unit2_bn1 (BatchNormaliz (None, 56, 56, 64)   256         add[0][0]                        \n",
            "__________________________________________________________________________________________________\n",
            "stage1_unit2_relu1 (Activation) (None, 56, 56, 64)   0           stage1_unit2_bn1[0][0]           \n",
            "__________________________________________________________________________________________________\n",
            "zero_padding2d_4 (ZeroPadding2D (None, 58, 58, 64)   0           stage1_unit2_relu1[0][0]         \n",
            "__________________________________________________________________________________________________\n",
            "stage1_unit2_conv1 (Conv2D)     (None, 56, 56, 64)   36864       zero_padding2d_4[0][0]           \n",
            "__________________________________________________________________________________________________\n",
            "stage1_unit2_bn2 (BatchNormaliz (None, 56, 56, 64)   256         stage1_unit2_conv1[0][0]         \n",
            "__________________________________________________________________________________________________\n",
            "stage1_unit2_relu2 (Activation) (None, 56, 56, 64)   0           stage1_unit2_bn2[0][0]           \n",
            "__________________________________________________________________________________________________\n",
            "zero_padding2d_5 (ZeroPadding2D (None, 58, 58, 64)   0           stage1_unit2_relu2[0][0]         \n",
            "__________________________________________________________________________________________________\n",
            "stage1_unit2_conv2 (Conv2D)     (None, 56, 56, 64)   36864       zero_padding2d_5[0][0]           \n",
            "__________________________________________________________________________________________________\n",
            "add_1 (Add)                     (None, 56, 56, 64)   0           stage1_unit2_conv2[0][0]         \n",
            "                                                                 add[0][0]                        \n",
            "__________________________________________________________________________________________________\n",
            "stage1_unit3_bn1 (BatchNormaliz (None, 56, 56, 64)   256         add_1[0][0]                      \n",
            "__________________________________________________________________________________________________\n",
            "stage1_unit3_relu1 (Activation) (None, 56, 56, 64)   0           stage1_unit3_bn1[0][0]           \n",
            "__________________________________________________________________________________________________\n",
            "zero_padding2d_6 (ZeroPadding2D (None, 58, 58, 64)   0           stage1_unit3_relu1[0][0]         \n",
            "__________________________________________________________________________________________________\n",
            "stage1_unit3_conv1 (Conv2D)     (None, 56, 56, 64)   36864       zero_padding2d_6[0][0]           \n",
            "__________________________________________________________________________________________________\n",
            "stage1_unit3_bn2 (BatchNormaliz (None, 56, 56, 64)   256         stage1_unit3_conv1[0][0]         \n",
            "__________________________________________________________________________________________________\n",
            "stage1_unit3_relu2 (Activation) (None, 56, 56, 64)   0           stage1_unit3_bn2[0][0]           \n",
            "__________________________________________________________________________________________________\n",
            "zero_padding2d_7 (ZeroPadding2D (None, 58, 58, 64)   0           stage1_unit3_relu2[0][0]         \n",
            "__________________________________________________________________________________________________\n",
            "stage1_unit3_conv2 (Conv2D)     (None, 56, 56, 64)   36864       zero_padding2d_7[0][0]           \n",
            "__________________________________________________________________________________________________\n",
            "add_2 (Add)                     (None, 56, 56, 64)   0           stage1_unit3_conv2[0][0]         \n",
            "                                                                 add_1[0][0]                      \n",
            "__________________________________________________________________________________________________\n",
            "stage2_unit1_bn1 (BatchNormaliz (None, 56, 56, 64)   256         add_2[0][0]                      \n",
            "__________________________________________________________________________________________________\n",
            "stage2_unit1_relu1 (Activation) (None, 56, 56, 64)   0           stage2_unit1_bn1[0][0]           \n",
            "__________________________________________________________________________________________________\n",
            "zero_padding2d_8 (ZeroPadding2D (None, 58, 58, 64)   0           stage2_unit1_relu1[0][0]         \n",
            "__________________________________________________________________________________________________\n",
            "stage2_unit1_conv1 (Conv2D)     (None, 28, 28, 128)  73728       zero_padding2d_8[0][0]           \n",
            "__________________________________________________________________________________________________\n",
            "stage2_unit1_bn2 (BatchNormaliz (None, 28, 28, 128)  512         stage2_unit1_conv1[0][0]         \n",
            "__________________________________________________________________________________________________\n",
            "stage2_unit1_relu2 (Activation) (None, 28, 28, 128)  0           stage2_unit1_bn2[0][0]           \n",
            "__________________________________________________________________________________________________\n",
            "zero_padding2d_9 (ZeroPadding2D (None, 30, 30, 128)  0           stage2_unit1_relu2[0][0]         \n",
            "__________________________________________________________________________________________________\n",
            "stage2_unit1_conv2 (Conv2D)     (None, 28, 28, 128)  147456      zero_padding2d_9[0][0]           \n",
            "__________________________________________________________________________________________________\n",
            "stage2_unit1_sc (Conv2D)        (None, 28, 28, 128)  8192        stage2_unit1_relu1[0][0]         \n",
            "__________________________________________________________________________________________________\n",
            "add_3 (Add)                     (None, 28, 28, 128)  0           stage2_unit1_conv2[0][0]         \n",
            "                                                                 stage2_unit1_sc[0][0]            \n",
            "__________________________________________________________________________________________________\n",
            "stage2_unit2_bn1 (BatchNormaliz (None, 28, 28, 128)  512         add_3[0][0]                      \n",
            "__________________________________________________________________________________________________\n",
            "stage2_unit2_relu1 (Activation) (None, 28, 28, 128)  0           stage2_unit2_bn1[0][0]           \n",
            "__________________________________________________________________________________________________\n",
            "zero_padding2d_10 (ZeroPadding2 (None, 30, 30, 128)  0           stage2_unit2_relu1[0][0]         \n",
            "__________________________________________________________________________________________________\n",
            "stage2_unit2_conv1 (Conv2D)     (None, 28, 28, 128)  147456      zero_padding2d_10[0][0]          \n",
            "__________________________________________________________________________________________________\n",
            "stage2_unit2_bn2 (BatchNormaliz (None, 28, 28, 128)  512         stage2_unit2_conv1[0][0]         \n",
            "__________________________________________________________________________________________________\n",
            "stage2_unit2_relu2 (Activation) (None, 28, 28, 128)  0           stage2_unit2_bn2[0][0]           \n",
            "__________________________________________________________________________________________________\n",
            "zero_padding2d_11 (ZeroPadding2 (None, 30, 30, 128)  0           stage2_unit2_relu2[0][0]         \n",
            "__________________________________________________________________________________________________\n",
            "stage2_unit2_conv2 (Conv2D)     (None, 28, 28, 128)  147456      zero_padding2d_11[0][0]          \n",
            "__________________________________________________________________________________________________\n",
            "add_4 (Add)                     (None, 28, 28, 128)  0           stage2_unit2_conv2[0][0]         \n",
            "                                                                 add_3[0][0]                      \n",
            "__________________________________________________________________________________________________\n",
            "stage2_unit3_bn1 (BatchNormaliz (None, 28, 28, 128)  512         add_4[0][0]                      \n",
            "__________________________________________________________________________________________________\n",
            "stage2_unit3_relu1 (Activation) (None, 28, 28, 128)  0           stage2_unit3_bn1[0][0]           \n",
            "__________________________________________________________________________________________________\n",
            "zero_padding2d_12 (ZeroPadding2 (None, 30, 30, 128)  0           stage2_unit3_relu1[0][0]         \n",
            "__________________________________________________________________________________________________\n",
            "stage2_unit3_conv1 (Conv2D)     (None, 28, 28, 128)  147456      zero_padding2d_12[0][0]          \n",
            "__________________________________________________________________________________________________\n",
            "stage2_unit3_bn2 (BatchNormaliz (None, 28, 28, 128)  512         stage2_unit3_conv1[0][0]         \n",
            "__________________________________________________________________________________________________\n",
            "stage2_unit3_relu2 (Activation) (None, 28, 28, 128)  0           stage2_unit3_bn2[0][0]           \n",
            "__________________________________________________________________________________________________\n",
            "zero_padding2d_13 (ZeroPadding2 (None, 30, 30, 128)  0           stage2_unit3_relu2[0][0]         \n",
            "__________________________________________________________________________________________________\n",
            "stage2_unit3_conv2 (Conv2D)     (None, 28, 28, 128)  147456      zero_padding2d_13[0][0]          \n",
            "__________________________________________________________________________________________________\n",
            "add_5 (Add)                     (None, 28, 28, 128)  0           stage2_unit3_conv2[0][0]         \n",
            "                                                                 add_4[0][0]                      \n",
            "__________________________________________________________________________________________________\n",
            "stage2_unit4_bn1 (BatchNormaliz (None, 28, 28, 128)  512         add_5[0][0]                      \n",
            "__________________________________________________________________________________________________\n",
            "stage2_unit4_relu1 (Activation) (None, 28, 28, 128)  0           stage2_unit4_bn1[0][0]           \n",
            "__________________________________________________________________________________________________\n",
            "zero_padding2d_14 (ZeroPadding2 (None, 30, 30, 128)  0           stage2_unit4_relu1[0][0]         \n",
            "__________________________________________________________________________________________________\n",
            "stage2_unit4_conv1 (Conv2D)     (None, 28, 28, 128)  147456      zero_padding2d_14[0][0]          \n",
            "__________________________________________________________________________________________________\n",
            "stage2_unit4_bn2 (BatchNormaliz (None, 28, 28, 128)  512         stage2_unit4_conv1[0][0]         \n",
            "__________________________________________________________________________________________________\n",
            "stage2_unit4_relu2 (Activation) (None, 28, 28, 128)  0           stage2_unit4_bn2[0][0]           \n",
            "__________________________________________________________________________________________________\n",
            "zero_padding2d_15 (ZeroPadding2 (None, 30, 30, 128)  0           stage2_unit4_relu2[0][0]         \n",
            "__________________________________________________________________________________________________\n",
            "stage2_unit4_conv2 (Conv2D)     (None, 28, 28, 128)  147456      zero_padding2d_15[0][0]          \n",
            "__________________________________________________________________________________________________\n",
            "add_6 (Add)                     (None, 28, 28, 128)  0           stage2_unit4_conv2[0][0]         \n",
            "                                                                 add_5[0][0]                      \n",
            "__________________________________________________________________________________________________\n",
            "stage3_unit1_bn1 (BatchNormaliz (None, 28, 28, 128)  512         add_6[0][0]                      \n",
            "__________________________________________________________________________________________________\n",
            "stage3_unit1_relu1 (Activation) (None, 28, 28, 128)  0           stage3_unit1_bn1[0][0]           \n",
            "__________________________________________________________________________________________________\n",
            "zero_padding2d_16 (ZeroPadding2 (None, 30, 30, 128)  0           stage3_unit1_relu1[0][0]         \n",
            "__________________________________________________________________________________________________\n",
            "stage3_unit1_conv1 (Conv2D)     (None, 14, 14, 256)  294912      zero_padding2d_16[0][0]          \n",
            "__________________________________________________________________________________________________\n",
            "stage3_unit1_bn2 (BatchNormaliz (None, 14, 14, 256)  1024        stage3_unit1_conv1[0][0]         \n",
            "__________________________________________________________________________________________________\n",
            "stage3_unit1_relu2 (Activation) (None, 14, 14, 256)  0           stage3_unit1_bn2[0][0]           \n",
            "__________________________________________________________________________________________________\n",
            "zero_padding2d_17 (ZeroPadding2 (None, 16, 16, 256)  0           stage3_unit1_relu2[0][0]         \n",
            "__________________________________________________________________________________________________\n",
            "stage3_unit1_conv2 (Conv2D)     (None, 14, 14, 256)  589824      zero_padding2d_17[0][0]          \n",
            "__________________________________________________________________________________________________\n",
            "stage3_unit1_sc (Conv2D)        (None, 14, 14, 256)  32768       stage3_unit1_relu1[0][0]         \n",
            "__________________________________________________________________________________________________\n",
            "add_7 (Add)                     (None, 14, 14, 256)  0           stage3_unit1_conv2[0][0]         \n",
            "                                                                 stage3_unit1_sc[0][0]            \n",
            "__________________________________________________________________________________________________\n",
            "stage3_unit2_bn1 (BatchNormaliz (None, 14, 14, 256)  1024        add_7[0][0]                      \n",
            "__________________________________________________________________________________________________\n",
            "stage3_unit2_relu1 (Activation) (None, 14, 14, 256)  0           stage3_unit2_bn1[0][0]           \n",
            "__________________________________________________________________________________________________\n",
            "zero_padding2d_18 (ZeroPadding2 (None, 16, 16, 256)  0           stage3_unit2_relu1[0][0]         \n",
            "__________________________________________________________________________________________________\n",
            "stage3_unit2_conv1 (Conv2D)     (None, 14, 14, 256)  589824      zero_padding2d_18[0][0]          \n",
            "__________________________________________________________________________________________________\n",
            "stage3_unit2_bn2 (BatchNormaliz (None, 14, 14, 256)  1024        stage3_unit2_conv1[0][0]         \n",
            "__________________________________________________________________________________________________\n",
            "stage3_unit2_relu2 (Activation) (None, 14, 14, 256)  0           stage3_unit2_bn2[0][0]           \n",
            "__________________________________________________________________________________________________\n",
            "zero_padding2d_19 (ZeroPadding2 (None, 16, 16, 256)  0           stage3_unit2_relu2[0][0]         \n",
            "__________________________________________________________________________________________________\n",
            "stage3_unit2_conv2 (Conv2D)     (None, 14, 14, 256)  589824      zero_padding2d_19[0][0]          \n",
            "__________________________________________________________________________________________________\n",
            "add_8 (Add)                     (None, 14, 14, 256)  0           stage3_unit2_conv2[0][0]         \n",
            "                                                                 add_7[0][0]                      \n",
            "__________________________________________________________________________________________________\n",
            "stage3_unit3_bn1 (BatchNormaliz (None, 14, 14, 256)  1024        add_8[0][0]                      \n",
            "__________________________________________________________________________________________________\n",
            "stage3_unit3_relu1 (Activation) (None, 14, 14, 256)  0           stage3_unit3_bn1[0][0]           \n",
            "__________________________________________________________________________________________________\n",
            "zero_padding2d_20 (ZeroPadding2 (None, 16, 16, 256)  0           stage3_unit3_relu1[0][0]         \n",
            "__________________________________________________________________________________________________\n",
            "stage3_unit3_conv1 (Conv2D)     (None, 14, 14, 256)  589824      zero_padding2d_20[0][0]          \n",
            "__________________________________________________________________________________________________\n",
            "stage3_unit3_bn2 (BatchNormaliz (None, 14, 14, 256)  1024        stage3_unit3_conv1[0][0]         \n",
            "__________________________________________________________________________________________________\n",
            "stage3_unit3_relu2 (Activation) (None, 14, 14, 256)  0           stage3_unit3_bn2[0][0]           \n",
            "__________________________________________________________________________________________________\n",
            "zero_padding2d_21 (ZeroPadding2 (None, 16, 16, 256)  0           stage3_unit3_relu2[0][0]         \n",
            "__________________________________________________________________________________________________\n",
            "stage3_unit3_conv2 (Conv2D)     (None, 14, 14, 256)  589824      zero_padding2d_21[0][0]          \n",
            "__________________________________________________________________________________________________\n",
            "add_9 (Add)                     (None, 14, 14, 256)  0           stage3_unit3_conv2[0][0]         \n",
            "                                                                 add_8[0][0]                      \n",
            "__________________________________________________________________________________________________\n",
            "stage3_unit4_bn1 (BatchNormaliz (None, 14, 14, 256)  1024        add_9[0][0]                      \n",
            "__________________________________________________________________________________________________\n",
            "stage3_unit4_relu1 (Activation) (None, 14, 14, 256)  0           stage3_unit4_bn1[0][0]           \n",
            "__________________________________________________________________________________________________\n",
            "zero_padding2d_22 (ZeroPadding2 (None, 16, 16, 256)  0           stage3_unit4_relu1[0][0]         \n",
            "__________________________________________________________________________________________________\n",
            "stage3_unit4_conv1 (Conv2D)     (None, 14, 14, 256)  589824      zero_padding2d_22[0][0]          \n",
            "__________________________________________________________________________________________________\n",
            "stage3_unit4_bn2 (BatchNormaliz (None, 14, 14, 256)  1024        stage3_unit4_conv1[0][0]         \n",
            "__________________________________________________________________________________________________\n",
            "stage3_unit4_relu2 (Activation) (None, 14, 14, 256)  0           stage3_unit4_bn2[0][0]           \n",
            "__________________________________________________________________________________________________\n",
            "zero_padding2d_23 (ZeroPadding2 (None, 16, 16, 256)  0           stage3_unit4_relu2[0][0]         \n",
            "__________________________________________________________________________________________________\n",
            "stage3_unit4_conv2 (Conv2D)     (None, 14, 14, 256)  589824      zero_padding2d_23[0][0]          \n",
            "__________________________________________________________________________________________________\n",
            "add_10 (Add)                    (None, 14, 14, 256)  0           stage3_unit4_conv2[0][0]         \n",
            "                                                                 add_9[0][0]                      \n",
            "__________________________________________________________________________________________________\n",
            "stage3_unit5_bn1 (BatchNormaliz (None, 14, 14, 256)  1024        add_10[0][0]                     \n",
            "__________________________________________________________________________________________________\n",
            "stage3_unit5_relu1 (Activation) (None, 14, 14, 256)  0           stage3_unit5_bn1[0][0]           \n",
            "__________________________________________________________________________________________________\n",
            "zero_padding2d_24 (ZeroPadding2 (None, 16, 16, 256)  0           stage3_unit5_relu1[0][0]         \n",
            "__________________________________________________________________________________________________\n",
            "stage3_unit5_conv1 (Conv2D)     (None, 14, 14, 256)  589824      zero_padding2d_24[0][0]          \n",
            "__________________________________________________________________________________________________\n",
            "stage3_unit5_bn2 (BatchNormaliz (None, 14, 14, 256)  1024        stage3_unit5_conv1[0][0]         \n",
            "__________________________________________________________________________________________________\n",
            "stage3_unit5_relu2 (Activation) (None, 14, 14, 256)  0           stage3_unit5_bn2[0][0]           \n",
            "__________________________________________________________________________________________________\n",
            "zero_padding2d_25 (ZeroPadding2 (None, 16, 16, 256)  0           stage3_unit5_relu2[0][0]         \n",
            "__________________________________________________________________________________________________\n",
            "stage3_unit5_conv2 (Conv2D)     (None, 14, 14, 256)  589824      zero_padding2d_25[0][0]          \n",
            "__________________________________________________________________________________________________\n",
            "add_11 (Add)                    (None, 14, 14, 256)  0           stage3_unit5_conv2[0][0]         \n",
            "                                                                 add_10[0][0]                     \n",
            "__________________________________________________________________________________________________\n",
            "stage3_unit6_bn1 (BatchNormaliz (None, 14, 14, 256)  1024        add_11[0][0]                     \n",
            "__________________________________________________________________________________________________\n",
            "stage3_unit6_relu1 (Activation) (None, 14, 14, 256)  0           stage3_unit6_bn1[0][0]           \n",
            "__________________________________________________________________________________________________\n",
            "zero_padding2d_26 (ZeroPadding2 (None, 16, 16, 256)  0           stage3_unit6_relu1[0][0]         \n",
            "__________________________________________________________________________________________________\n",
            "stage3_unit6_conv1 (Conv2D)     (None, 14, 14, 256)  589824      zero_padding2d_26[0][0]          \n",
            "__________________________________________________________________________________________________\n",
            "stage3_unit6_bn2 (BatchNormaliz (None, 14, 14, 256)  1024        stage3_unit6_conv1[0][0]         \n",
            "__________________________________________________________________________________________________\n",
            "stage3_unit6_relu2 (Activation) (None, 14, 14, 256)  0           stage3_unit6_bn2[0][0]           \n",
            "__________________________________________________________________________________________________\n",
            "zero_padding2d_27 (ZeroPadding2 (None, 16, 16, 256)  0           stage3_unit6_relu2[0][0]         \n",
            "__________________________________________________________________________________________________\n",
            "stage3_unit6_conv2 (Conv2D)     (None, 14, 14, 256)  589824      zero_padding2d_27[0][0]          \n",
            "__________________________________________________________________________________________________\n",
            "add_12 (Add)                    (None, 14, 14, 256)  0           stage3_unit6_conv2[0][0]         \n",
            "                                                                 add_11[0][0]                     \n",
            "__________________________________________________________________________________________________\n",
            "stage4_unit1_bn1 (BatchNormaliz (None, 14, 14, 256)  1024        add_12[0][0]                     \n",
            "__________________________________________________________________________________________________\n",
            "stage4_unit1_relu1 (Activation) (None, 14, 14, 256)  0           stage4_unit1_bn1[0][0]           \n",
            "__________________________________________________________________________________________________\n",
            "zero_padding2d_28 (ZeroPadding2 (None, 16, 16, 256)  0           stage4_unit1_relu1[0][0]         \n",
            "__________________________________________________________________________________________________\n",
            "stage4_unit1_conv1 (Conv2D)     (None, 7, 7, 512)    1179648     zero_padding2d_28[0][0]          \n",
            "__________________________________________________________________________________________________\n",
            "stage4_unit1_bn2 (BatchNormaliz (None, 7, 7, 512)    2048        stage4_unit1_conv1[0][0]         \n",
            "__________________________________________________________________________________________________\n",
            "stage4_unit1_relu2 (Activation) (None, 7, 7, 512)    0           stage4_unit1_bn2[0][0]           \n",
            "__________________________________________________________________________________________________\n",
            "zero_padding2d_29 (ZeroPadding2 (None, 9, 9, 512)    0           stage4_unit1_relu2[0][0]         \n",
            "__________________________________________________________________________________________________\n",
            "stage4_unit1_conv2 (Conv2D)     (None, 7, 7, 512)    2359296     zero_padding2d_29[0][0]          \n",
            "__________________________________________________________________________________________________\n",
            "stage4_unit1_sc (Conv2D)        (None, 7, 7, 512)    131072      stage4_unit1_relu1[0][0]         \n",
            "__________________________________________________________________________________________________\n",
            "add_13 (Add)                    (None, 7, 7, 512)    0           stage4_unit1_conv2[0][0]         \n",
            "                                                                 stage4_unit1_sc[0][0]            \n",
            "__________________________________________________________________________________________________\n",
            "stage4_unit2_bn1 (BatchNormaliz (None, 7, 7, 512)    2048        add_13[0][0]                     \n",
            "__________________________________________________________________________________________________\n",
            "stage4_unit2_relu1 (Activation) (None, 7, 7, 512)    0           stage4_unit2_bn1[0][0]           \n",
            "__________________________________________________________________________________________________\n",
            "zero_padding2d_30 (ZeroPadding2 (None, 9, 9, 512)    0           stage4_unit2_relu1[0][0]         \n",
            "__________________________________________________________________________________________________\n",
            "stage4_unit2_conv1 (Conv2D)     (None, 7, 7, 512)    2359296     zero_padding2d_30[0][0]          \n",
            "__________________________________________________________________________________________________\n",
            "stage4_unit2_bn2 (BatchNormaliz (None, 7, 7, 512)    2048        stage4_unit2_conv1[0][0]         \n",
            "__________________________________________________________________________________________________\n",
            "stage4_unit2_relu2 (Activation) (None, 7, 7, 512)    0           stage4_unit2_bn2[0][0]           \n",
            "__________________________________________________________________________________________________\n",
            "zero_padding2d_31 (ZeroPadding2 (None, 9, 9, 512)    0           stage4_unit2_relu2[0][0]         \n",
            "__________________________________________________________________________________________________\n",
            "stage4_unit2_conv2 (Conv2D)     (None, 7, 7, 512)    2359296     zero_padding2d_31[0][0]          \n",
            "__________________________________________________________________________________________________\n",
            "add_14 (Add)                    (None, 7, 7, 512)    0           stage4_unit2_conv2[0][0]         \n",
            "                                                                 add_13[0][0]                     \n",
            "__________________________________________________________________________________________________\n",
            "stage4_unit3_bn1 (BatchNormaliz (None, 7, 7, 512)    2048        add_14[0][0]                     \n",
            "__________________________________________________________________________________________________\n",
            "stage4_unit3_relu1 (Activation) (None, 7, 7, 512)    0           stage4_unit3_bn1[0][0]           \n",
            "__________________________________________________________________________________________________\n",
            "zero_padding2d_32 (ZeroPadding2 (None, 9, 9, 512)    0           stage4_unit3_relu1[0][0]         \n",
            "__________________________________________________________________________________________________\n",
            "stage4_unit3_conv1 (Conv2D)     (None, 7, 7, 512)    2359296     zero_padding2d_32[0][0]          \n",
            "__________________________________________________________________________________________________\n",
            "stage4_unit3_bn2 (BatchNormaliz (None, 7, 7, 512)    2048        stage4_unit3_conv1[0][0]         \n",
            "__________________________________________________________________________________________________\n",
            "stage4_unit3_relu2 (Activation) (None, 7, 7, 512)    0           stage4_unit3_bn2[0][0]           \n",
            "__________________________________________________________________________________________________\n",
            "zero_padding2d_33 (ZeroPadding2 (None, 9, 9, 512)    0           stage4_unit3_relu2[0][0]         \n",
            "__________________________________________________________________________________________________\n",
            "stage4_unit3_conv2 (Conv2D)     (None, 7, 7, 512)    2359296     zero_padding2d_33[0][0]          \n",
            "__________________________________________________________________________________________________\n",
            "add_15 (Add)                    (None, 7, 7, 512)    0           stage4_unit3_conv2[0][0]         \n",
            "                                                                 add_14[0][0]                     \n",
            "__________________________________________________________________________________________________\n",
            "bn1 (BatchNormalization)        (None, 7, 7, 512)    2048        add_15[0][0]                     \n",
            "__________________________________________________________________________________________________\n",
            "relu1 (Activation)              (None, 7, 7, 512)    0           bn1[0][0]                        \n",
            "==================================================================================================\n",
            "Total params: 21,302,473\n",
            "Trainable params: 21,287,107\n",
            "Non-trainable params: 15,366\n",
            "__________________________________________________________________________________________________\n",
            "Found 9170 images belonging to 2 classes.\n",
            "Found 4443 images belonging to 2 classes.\n",
            "weights ratio to make the dataset balanced:  {0: 0.6769526059353315, 1: 1.912807676261994}\n",
            "class Indices of train generator : {'Epithelioid': 0, 'Nonepithelioid': 1}\n",
            "class Indices of validation generator : {'Epithelioid': 0, 'Nonepithelioid': 1}\n"
          ],
          "name": "stdout"
        }
      ]
    },
    {
      "cell_type": "code",
      "metadata": {
        "id": "cso0p2iYWwyE"
      },
      "source": [
        "def training_model(pretrained_model,final_activation):\n",
        "    model = Sequential()\n",
        "    model.add(pretrained_model) #pretrained model\n",
        "    model.add(Flatten()) #creating a single 1-d vector\n",
        "    model.add(Dense(2,activation=final_activation))#output layer with softmax activation function.\n",
        "    return model\n",
        "\n",
        "#this function takes the each patch in WSI then predicts the probability score\n",
        "def pred_each_patch(path,name):\n",
        "    y = image.load_img(os.path.join(path, name))\n",
        "    img = image.img_to_array(y)\n",
        "    y = np.expand_dims(img, axis = 0)\n",
        "    y = preprocess_input(y)\n",
        "    y /= 255\n",
        "    y_pred = model.predict(y)\n",
        "    return y_pred\n",
        "        \n",
        "def avg(predlist):\n",
        "    average = sum(predlist)/len(predlist)\n",
        "    return average\n",
        "\n",
        "def extract_index_one_frmpred(prediction_list):               \n",
        "    ypred = np.stack(prediction_list)#we are vertically stacking the predictions\n",
        "    ypred = np.reshape(ypred, [len(prediction_list),2])#reshaping to 100,2 - np array\n",
        "    for each in ypred:\n",
        "    #after reshaping the predictions as we wanted, we are taking the index '1' to compute whole slide level AUC-ROC\n",
        "        val = each[1]\n",
        "        pred_prob_list.append(val)#appending all the values into a list - to compute average values of single WSI and maximum of single WSI.\n",
        "        \n",
        "    return pred_prob_list\n",
        "    \n",
        "def plt_history(history): \n",
        "    \n",
        "    plt.plot(history.history['loss'])\n",
        "    plt.plot(history.history['val_loss'])\n",
        "    plt.title('model loss')\n",
        "    plt.ylabel('loss')\n",
        "    plt.xlabel('epochs')\n",
        "    plt.legend(['train', 'validation'], loc='upper right')\n",
        "    plt.tight_layout() \n",
        "    plt.show()\n",
        "    return\n",
        "\n",
        "def y_labels(path):\n",
        "  if \"Epithelioid\" in path:\n",
        "    y_test_labels.append(0.0)\n",
        "  elif \"Nonepithelioid\" in path:\n",
        "    y_test_labels.append(1.0) \n",
        "  return\n",
        "\n",
        "def prediction_scores(y_test_labels,AVG_LIST_PREDICTIONS,MAX_LIST_PREDICTIONS):\n",
        "  #AUC - ROC score\n",
        "  false_pr_avg,true_pr_avg,threshold = roc_curve(y_test_labels,AVG_LIST_PREDICTIONS)\n",
        "  roc_auc_avg = auc(false_pr_avg,true_pr_avg)\n",
        "  print(\"AUC - ROC on Test data average prediction scores:\",roc_auc_avg)\n",
        "  print(\"-----------------------------------------------------\")\n",
        "  plt.plot(false_pr_avg,true_pr_avg,color='green',label='ROC curve on test data(area = %0.2f)' %(auc(false_pr_avg,true_pr_avg)))\n",
        "  plt.plot([0, 1], [0, 1], color='navy', linestyle='--',label = 'Random')\n",
        "  plt.xlabel(\"False positive rate\")\n",
        "  plt.ylabel(\"True positive rate\")\n",
        "  plt.title('ROC curve on Test data (area = %0.2f)' %(auc(false_pr_avg,true_pr_avg)))\n",
        "  plt.legend(loc = \"lower right\")\n",
        "  plt.tight_layout()\n",
        "  plt.show()\n",
        "  \n",
        "  false_pr_max,true_pr_max,threshold = roc_curve(y_test_labels,MAX_LIST_PREDICTIONS)\n",
        "  roc_auc_max = auc(false_pr_max,true_pr_max)\n",
        "  print(\"AUC - ROC on Test data maximum prediction scores:\",roc_auc_max)\n",
        "  print(\"-----------------------------------------------------\")\n",
        "  plt.plot(false_pr_max,true_pr_max,color='magenta',label='ROC curve on test data(area = %0.2f)' %(auc(false_pr_max,true_pr_max)))\n",
        "  plt.plot([0, 1], [0, 1], color='navy', linestyle='--',label = 'Random')\n",
        "  plt.xlabel(\"False positive rate\")\n",
        "  plt.ylabel(\"True positive rate\")\n",
        "  plt.title('ROC curve on Test data (area = %0.2f)' %(auc(false_pr_max,true_pr_max)))\n",
        "  plt.legend(loc = \"lower right\")\n",
        "  plt.tight_layout()\n",
        "  plt.show()\n",
        " \n",
        "\n",
        "def pre_recall(y_test_labels,AVG_LIST_PREDICTIONS,MAX_LIST_PREDICTIONS):\n",
        "  #presicion - recall curve\n",
        "  precision, recall, threshold = precision_recall_curve(y_test_labels,AVG_LIST_PREDICTIONS)\n",
        "  print(\"Presicion - Recall auc on test data average score predictions:\",auc(recall,precision))\n",
        " \n",
        "  print(\"-----------------------------------------------------\")\n",
        "  plt.plot(precision, recall,color='orange',label='PR curve (area = %0.2f)' %(auc(recall,precision)))\n",
        "  plt.xlabel(\"Recall\")\n",
        "  plt.ylabel(\"Precision\")\n",
        "  plt.title('Presicion Recall curve on Test data (area = %0.2f)' %(auc(recall,precision)))\n",
        "  plt.legend(loc = \"lower right\")\n",
        "  plt.tight_layout()\n",
        "  plt.show()\n",
        "\n",
        "  precision_max, recall_max, threshold = precision_recall_curve(y_test_labels,MAX_LIST_PREDICTIONS)\n",
        "  print(\"Presicion - Recall auc on test data maximum score predictions:\",auc(recall_max,precision_max))\n",
        " \n",
        "  print(\"-----------------------------------------------------\")\n",
        "  plt.plot(precision_max, recall_max,color='cyan',label='PR curve (area = %0.2f)' %(auc(recall_max,precision_max)))\n",
        "  plt.xlabel(\"Recall\")\n",
        "  plt.ylabel(\"Precision\")\n",
        "  plt.title('Presicion Recall curve on Test data (area = %0.2f)' %(auc(recall_max,precision_max)))\n",
        "  plt.legend(loc = \"lower right\")\n",
        "  plt.tight_layout()\n",
        "  plt.show()"
      ],
      "execution_count": 4,
      "outputs": []
    },
    {
      "cell_type": "code",
      "metadata": {
        "id": "CLz9lfhyW6Dv",
        "outputId": "98b02c70-7ce0-46b4-8845-e007fb869d4a",
        "colab": {
          "base_uri": "https://localhost:8080/",
          "height": 1000
        }
      },
      "source": [
        "from keras.models import load_model\n",
        "\n",
        "model = training_model(base_resnet34model,final_activation)  \n",
        "\n",
        "reduce_lr = keras.callbacks.ReduceLROnPlateau(monitor = 'val_loss',factor = 0.1,patience=3,verbose = 1)\n",
        "# early stopping to prevent overfitting\n",
        "es = EarlyStopping(monitor='val_loss',verbose=1, patience=patience)\n",
        "\n",
        "opt_nadam = tf.keras.optimizers.Nadam(1e-4)#Adam with Nestrov momentum\n",
        "\n",
        "model.compile(optimizer= opt_nadam, loss=loss_function,metrics = [tf.keras.metrics.AUC(),tf.keras.metrics.Precision(),tf.keras.metrics.Recall()])\n",
        "\n",
        "#Initilaising the model\n",
        "history = model.fit(train_data_generator, steps_per_epoch=len(train_data_generator.classes)//batch_size, validation_data=val_data_generator,epochs = epoch,class_weight = weights,callbacks =[es,reduce_lr],workers = 4)\n",
        "    \n",
        "plt_history(history)#model_loss_plot "
      ],
      "execution_count": 5,
      "outputs": [
        {
          "output_type": "stream",
          "text": [
            "Epoch 1/50\n",
            "143/143 [==============================] - 72s 501ms/step - loss: 0.8418 - auc: 0.7193 - precision: 0.6559 - recall: 0.6559 - val_loss: 4.3959 - val_auc: 0.3086 - val_precision: 0.3086 - val_recall: 0.3086\n",
            "Epoch 2/50\n",
            "143/143 [==============================] - 69s 482ms/step - loss: 0.1287 - auc: 0.9903 - precision: 0.9541 - recall: 0.9541 - val_loss: 3.5879 - val_auc: 0.3139 - val_precision: 0.3086 - val_recall: 0.3086\n",
            "Epoch 3/50\n",
            "143/143 [==============================] - 69s 480ms/step - loss: 0.0201 - auc: 0.9999 - precision: 0.9963 - recall: 0.9963 - val_loss: 3.7767 - val_auc: 0.3040 - val_precision: 0.3086 - val_recall: 0.3086\n",
            "Epoch 4/50\n",
            "143/143 [==============================] - 69s 481ms/step - loss: 0.0078 - auc: 1.0000 - precision: 0.9991 - recall: 0.9991 - val_loss: 2.5079 - val_auc: 0.3109 - val_precision: 0.3088 - val_recall: 0.3088\n",
            "Epoch 5/50\n",
            "143/143 [==============================] - 69s 481ms/step - loss: 0.0046 - auc: 1.0000 - precision: 0.9995 - recall: 0.9995 - val_loss: 4.5635 - val_auc: 0.2869 - val_precision: 0.3081 - val_recall: 0.3081\n",
            "Epoch 6/50\n",
            "143/143 [==============================] - 69s 482ms/step - loss: 0.0024 - auc: 1.0000 - precision: 1.0000 - recall: 1.0000 - val_loss: 4.1183 - val_auc: 0.2958 - val_precision: 0.3059 - val_recall: 0.3059\n",
            "Epoch 7/50\n",
            "143/143 [==============================] - ETA: 0s - loss: 0.0013 - auc: 1.0000 - precision: 1.0000 - recall: 1.0000\n",
            "Epoch 00007: ReduceLROnPlateau reducing learning rate to 9.999999747378752e-06.\n",
            "143/143 [==============================] - 69s 482ms/step - loss: 0.0013 - auc: 1.0000 - precision: 1.0000 - recall: 1.0000 - val_loss: 3.1869 - val_auc: 0.3476 - val_precision: 0.3630 - val_recall: 0.3630\n",
            "Epoch 8/50\n",
            "143/143 [==============================] - 69s 481ms/step - loss: 0.0013 - auc: 1.0000 - precision: 0.9999 - recall: 0.9999 - val_loss: 1.6658 - val_auc: 0.5813 - val_precision: 0.5598 - val_recall: 0.5598\n",
            "Epoch 9/50\n",
            "143/143 [==============================] - 69s 482ms/step - loss: 9.9350e-04 - auc: 1.0000 - precision: 1.0000 - recall: 1.0000 - val_loss: 1.4623 - val_auc: 0.6923 - val_precision: 0.6451 - val_recall: 0.6451\n",
            "Epoch 10/50\n",
            "143/143 [==============================] - 69s 482ms/step - loss: 9.3941e-04 - auc: 1.0000 - precision: 0.9999 - recall: 0.9999 - val_loss: 1.4746 - val_auc: 0.7213 - val_precision: 0.6763 - val_recall: 0.6763\n",
            "Epoch 11/50\n",
            "143/143 [==============================] - 69s 480ms/step - loss: 7.4340e-04 - auc: 1.0000 - precision: 1.0000 - recall: 1.0000 - val_loss: 1.4849 - val_auc: 0.7293 - val_precision: 0.6838 - val_recall: 0.6838\n",
            "Epoch 12/50\n",
            "143/143 [==============================] - ETA: 0s - loss: 7.6259e-04 - auc: 1.0000 - precision: 1.0000 - recall: 1.0000\n",
            "Epoch 00012: ReduceLROnPlateau reducing learning rate to 9.999999747378752e-07.\n",
            "143/143 [==============================] - 69s 483ms/step - loss: 7.6259e-04 - auc: 1.0000 - precision: 1.0000 - recall: 1.0000 - val_loss: 1.5003 - val_auc: 0.7314 - val_precision: 0.6871 - val_recall: 0.6871\n",
            "Epoch 13/50\n",
            "143/143 [==============================] - 69s 481ms/step - loss: 7.7217e-04 - auc: 1.0000 - precision: 1.0000 - recall: 1.0000 - val_loss: 1.5008 - val_auc: 0.7310 - val_precision: 0.6871 - val_recall: 0.6871\n",
            "Epoch 14/50\n",
            "143/143 [==============================] - 69s 482ms/step - loss: 8.8182e-04 - auc: 1.0000 - precision: 1.0000 - recall: 1.0000 - val_loss: 1.5026 - val_auc: 0.7316 - val_precision: 0.6876 - val_recall: 0.6876\n",
            "Epoch 15/50\n",
            "143/143 [==============================] - ETA: 0s - loss: 6.4607e-04 - auc: 1.0000 - precision: 1.0000 - recall: 1.0000\n",
            "Epoch 00015: ReduceLROnPlateau reducing learning rate to 9.999999974752428e-08.\n",
            "143/143 [==============================] - 69s 482ms/step - loss: 6.4607e-04 - auc: 1.0000 - precision: 1.0000 - recall: 1.0000 - val_loss: 1.5062 - val_auc: 0.7314 - val_precision: 0.6869 - val_recall: 0.6869\n",
            "Epoch 16/50\n",
            "143/143 [==============================] - 69s 483ms/step - loss: 6.7902e-04 - auc: 1.0000 - precision: 1.0000 - recall: 1.0000 - val_loss: 1.5060 - val_auc: 0.7319 - val_precision: 0.6874 - val_recall: 0.6874\n",
            "Epoch 17/50\n",
            "143/143 [==============================] - 69s 481ms/step - loss: 7.3013e-04 - auc: 1.0000 - precision: 1.0000 - recall: 1.0000 - val_loss: 1.5056 - val_auc: 0.7319 - val_precision: 0.6876 - val_recall: 0.6876\n",
            "Epoch 18/50\n",
            "143/143 [==============================] - ETA: 0s - loss: 9.6417e-04 - auc: 1.0000 - precision: 0.9999 - recall: 0.9999\n",
            "Epoch 00018: ReduceLROnPlateau reducing learning rate to 1.0000000116860975e-08.\n",
            "143/143 [==============================] - 69s 483ms/step - loss: 9.6417e-04 - auc: 1.0000 - precision: 0.9999 - recall: 0.9999 - val_loss: 1.5037 - val_auc: 0.7315 - val_precision: 0.6883 - val_recall: 0.6883\n",
            "Epoch 19/50\n",
            "143/143 [==============================] - 69s 481ms/step - loss: 8.8249e-04 - auc: 1.0000 - precision: 1.0000 - recall: 1.0000 - val_loss: 1.4986 - val_auc: 0.7316 - val_precision: 0.6880 - val_recall: 0.6880\n",
            "Epoch 00019: early stopping\n"
          ],
          "name": "stdout"
        },
        {
          "output_type": "display_data",
          "data": {
            "image/png": "[encoded data removed]",
            "text/plain": [
              "<Figure size 432x288 with 1 Axes>"
            ]
          },
          "metadata": {
            "tags": [],
            "needs_background": "light"
          }
        }
      ]
    },
    {
      "cell_type": "markdown",
      "metadata": {
        "id": "h_XLxigBXDW5"
      },
      "source": [
        "**EVALUATION ON VALIDATION DATASET**"
      ]
    },
    {
      "cell_type": "code",
      "metadata": {
        "id": "2m1CCJKQW-MN",
        "outputId": "e76735f1-1e6c-426d-9643-355dd8a5acae",
        "colab": {
          "base_uri": "https://localhost:8080/",
          "height": 34
        }
      },
      "source": [
        "AVG_LIST_PREDICTIONS_VAL = []\n",
        "MAX_LIST_PREDICTIONS_VAL = []\n",
        "y_val_labels= []\n",
        "print(\"Prediction on validation data using aggregation method\")\n",
        "for path, subdirs, files in os.walk(val_path): #iterating through folders of each WSI\n",
        "    if(fnmatch(path,folder_pattern)):\n",
        "        WSI_pred = list()\n",
        "        pred_prob_list = list()\n",
        "        # print(\"Iterating through all the patches in: \",os.path.basename(os.path.normpath(path)))\n",
        "        if \"Epithelioid\" in path:\n",
        "          y_val_labels.append(0.0)\n",
        "        elif \"Nonepithelioid\" in path:\n",
        "          y_val_labels.append(1.0) \n",
        "\n",
        "        for name in files:\n",
        "          if fnmatch(name, file_pattern):#iterating through each patch in all WSI image and computing probabilities\n",
        "              prediction = pred_each_patch(path,name)\n",
        "              WSI_pred.append(prediction)#this list contains probabilities of all patches in testset images\n",
        "\n",
        "        #computing average and maximum prediction of each image - so that we can compute Whole slide level AUC - ROC than patch level\n",
        "        predictions = extract_index_one_frmpred(WSI_pred)\n",
        "        #This list contains average score of all 36 test set images\n",
        "        AVG_LIST_PREDICTIONS_VAL.append(avg(predictions))\n",
        "        MAX_LIST_PREDICTIONS_VAL.append(max(predictions))"
      ],
      "execution_count": 21,
      "outputs": [
        {
          "output_type": "stream",
          "text": [
            "Prediction on validation data using aggregation method\n"
          ],
          "name": "stdout"
        }
      ]
    },
    {
      "cell_type": "code",
      "metadata": {
        "id": "uTOW-NtiXG8z"
      },
      "source": [
        "#creating a datframe to save predictions with actuals\n",
        "df_val = pd.DataFrame()\n",
        "df_val['Average'] = AVG_LIST_PREDICTIONS_VAL\n",
        "df_val['Maximum'] = MAX_LIST_PREDICTIONS_VAL\n",
        "df_val['Actual labels'] = y_val_labels\n",
        "#saving into csv file for futher use\n",
        "df_val.to_csv('FOLD3_100_res34_val.csv',index = False,header = True)\n",
        "!cp FOLD3_100_res34_val.csv \"drive/My Drive/\""
      ],
      "execution_count": 22,
      "outputs": []
    },
    {
      "cell_type": "markdown",
      "metadata": {
        "id": "7JWXU_KEX8pL"
      },
      "source": [
        "**AUC-ROC CURVES**"
      ]
    },
    {
      "cell_type": "code",
      "metadata": {
        "id": "Mu_A8Y8jg5jO",
        "outputId": "d93441b2-0503-4d46-8ebe-282f37f514b5",
        "colab": {
          "base_uri": "https://localhost:8080/",
          "height": 331
        }
      },
      "source": [
        "false_pr_avg,true_pr_avg,threshold = roc_curve(y_val_labels,AVG_LIST_PREDICTIONS_VAL)\n",
        "roc_auc_avg = auc(false_pr_avg,true_pr_avg)\n",
        "print(\"AUC - ROC on validation data average prediction scores:\",roc_auc_avg)\n",
        "print(\"-----------------------------------------------------\")\n",
        "plt.plot(false_pr_avg,true_pr_avg,color='green',label='ROC curve on validation data(area = %0.2f)' %(auc(false_pr_avg,true_pr_avg)))\n",
        "plt.plot([0, 1], [0, 1], color='navy', linestyle='--',label = 'Random')\n",
        "plt.xlabel(\"False positive rate\")\n",
        "plt.ylabel(\"True positive rate\")\n",
        "plt.title('ROC curve on validation data (area = %0.2f)' %(auc(false_pr_avg,true_pr_avg)))\n",
        "plt.legend(loc = \"lower right\")\n",
        "plt.tight_layout()\n",
        "plt.show()"
      ],
      "execution_count": 23,
      "outputs": [
        {
          "output_type": "stream",
          "text": [
            "AUC - ROC on validation data average prediction scores: 0.75\n",
            "-----------------------------------------------------\n"
          ],
          "name": "stdout"
        },
        {
          "output_type": "display_data",
          "data": {
            "image/png": "[encoded data removed]",
            "text/plain": [
              "<Figure size 432x288 with 1 Axes>"
            ]
          },
          "metadata": {
            "tags": [],
            "needs_background": "light"
          }
        }
      ]
    },
    {
      "cell_type": "code",
      "metadata": {
        "id": "ygYGGjF0g-ID",
        "outputId": "513d80fa-a88c-465a-d07e-68fd2134f74c",
        "colab": {
          "base_uri": "https://localhost:8080/",
          "height": 331
        }
      },
      "source": [
        "false_pr_max,true_pr_max,threshold = roc_curve(y_val_labels,MAX_LIST_PREDICTIONS_VAL)\n",
        "roc_auc_max = auc(false_pr_max,true_pr_max)\n",
        "print(\"AUC - ROC on validation data maximum prediction scores:\",roc_auc_max)\n",
        "print(\"-----------------------------------------------------\")\n",
        "plt.plot(false_pr_max,true_pr_max,color='magenta',label='ROC curve on validation data(area = %0.2f)' %(auc(false_pr_max,true_pr_max)))\n",
        "plt.plot([0, 1], [0, 1], color='navy', linestyle='--',label = 'Random')\n",
        "plt.xlabel(\"False positive rate\")\n",
        "plt.ylabel(\"True positive rate\")\n",
        "plt.title('ROC curve on validation data (area = %0.2f)' %(auc(false_pr_max,true_pr_max)))\n",
        "plt.legend(loc = \"lower right\")\n",
        "plt.tight_layout()\n",
        "plt.show()"
      ],
      "execution_count": 24,
      "outputs": [
        {
          "output_type": "stream",
          "text": [
            "AUC - ROC on validation data maximum prediction scores: 0.6875\n",
            "-----------------------------------------------------\n"
          ],
          "name": "stdout"
        },
        {
          "output_type": "display_data",
          "data": {
            "image/png": "[encoded data removed]",
            "text/plain": [
              "<Figure size 432x288 with 1 Axes>"
            ]
          },
          "metadata": {
            "tags": [],
            "needs_background": "light"
          }
        }
      ]
    },
    {
      "cell_type": "markdown",
      "metadata": {
        "id": "k3-Ff5VJYFew"
      },
      "source": [
        "**PR Curves**"
      ]
    },
    {
      "cell_type": "code",
      "metadata": {
        "id": "CbAa_om6YfG9",
        "outputId": "a14c389b-f593-4d31-ca9c-877acfb546b4",
        "colab": {
          "base_uri": "https://localhost:8080/",
          "height": 645
        }
      },
      "source": [
        "#presicion - recall curve\n",
        "precision, recall, threshold = precision_recall_curve(y_val_labels,AVG_LIST_PREDICTIONS_VAL)\n",
        "print(\"Presicion - Recall auc on validation data average score predictions:\",auc(recall,precision))\n",
        " \n",
        "print(\"-----------------------------------------------------\")\n",
        "plt.plot(precision, recall,color='red',label='PR curve (area = %0.2f)' %(auc(recall,precision)))\n",
        "plt.xlabel(\"Recall\")\n",
        "plt.ylabel(\"Precision\")\n",
        "plt.title('Presicion Recall curve on validation data (area = %0.2f)' %(auc(recall,precision)))\n",
        "plt.legend(loc = \"lower right\")\n",
        "plt.tight_layout()\n",
        "plt.show()\n",
        "\n",
        "precision_max, recall_max, threshold = precision_recall_curve(y_val_labels,MAX_LIST_PREDICTIONS_VAL)\n",
        "print(\"Presicion - Recall auc on validation data maximum score predictions:\",auc(recall_max,precision_max))\n",
        "print(\"-----------------------------------------------------\")\n",
        "plt.plot(precision_max, recall_max,color='blue',label='PR curve (area = %0.2f)' %(auc(recall_max,precision_max)))\n",
        "plt.xlabel(\"Recall\")\n",
        "plt.ylabel(\"Precision\")\n",
        "plt.title('Presicion Recall curve on validation data (area = %0.2f)' %(auc(recall_max,precision_max)))\n",
        "plt.legend(loc = \"lower right\")\n",
        "plt.tight_layout()\n",
        "plt.show()"
      ],
      "execution_count": 25,
      "outputs": [
        {
          "output_type": "stream",
          "text": [
            "Presicion - Recall auc on validation data average score predictions: 0.6312763769132118\n",
            "-----------------------------------------------------\n"
          ],
          "name": "stdout"
        },
        {
          "output_type": "display_data",
          "data": {
            "image/png": "[encoded data removed]",
            "text/plain": [
              "<Figure size 432x288 with 1 Axes>"
            ]
          },
          "metadata": {
            "tags": [],
            "needs_background": "light"
          }
        },
        {
          "output_type": "stream",
          "text": [
            "Presicion - Recall auc on validation data maximum score predictions: 0.5066784451895046\n",
            "-----------------------------------------------------\n"
          ],
          "name": "stdout"
        },
        {
          "output_type": "display_data",
          "data": {
            "image/png": "[encoded data removed]",
            "text/plain": [
              "<Figure size 432x288 with 1 Axes>"
            ]
          },
          "metadata": {
            "tags": [],
            "needs_background": "light"
          }
        }
      ]
    },
    {
      "cell_type": "markdown",
      "metadata": {
        "id": "Ac8hwdwlYIid"
      },
      "source": [
        "**CLASSIFICATION REPORT**"
      ]
    },
    {
      "cell_type": "code",
      "metadata": {
        "id": "Sfolnpz1XWKu",
        "outputId": "2965f198-7daf-4974-c81c-f7f51ea2db23",
        "colab": {
          "base_uri": "https://localhost:8080/",
          "height": 187
        }
      },
      "source": [
        "import sklearn\n",
        "#classification report on average prediction values\n",
        "AVG_LIST_PREDICTIONS_VAL = [round(x) for x in AVG_LIST_PREDICTIONS_VAL]\n",
        "print(\"CLASSIFICATION REPORT for AVERAGE SCORE PREDICTIONS\")\n",
        "print(sklearn.metrics.classification_report(y_val_labels,AVG_LIST_PREDICTIONS_VAL))"
      ],
      "execution_count": 26,
      "outputs": [
        {
          "output_type": "stream",
          "text": [
            "CLASSIFICATION REPORT for AVERAGE SCORE PREDICTIONS\n",
            "              precision    recall  f1-score   support\n",
            "\n",
            "         0.0       0.74      0.97      0.84        32\n",
            "         1.0       0.75      0.21      0.33        14\n",
            "\n",
            "    accuracy                           0.74        46\n",
            "   macro avg       0.74      0.59      0.59        46\n",
            "weighted avg       0.74      0.74      0.68        46\n",
            "\n"
          ],
          "name": "stdout"
        }
      ]
    },
    {
      "cell_type": "code",
      "metadata": {
        "id": "e5Lz82UTXajt",
        "outputId": "c31eea63-4f53-43de-9025-deb4a7126890",
        "colab": {
          "base_uri": "https://localhost:8080/",
          "height": 241
        }
      },
      "source": [
        "#classification report on maximum prediction values\n",
        "MAX_LIST_PREDICTIONS_VAL = [round(x) for x in MAX_LIST_PREDICTIONS_VAL]\n",
        "print(\"CLASSIFICATION REPORT for MAXIMUM SCORE PREDICTIONS\")\n",
        "print(sklearn.metrics.classification_report(y_val_labels,MAX_LIST_PREDICTIONS_VAL))"
      ],
      "execution_count": 27,
      "outputs": [
        {
          "output_type": "stream",
          "text": [
            "CLASSIFICATION REPORT for MAXIMUM SCORE PREDICTIONS\n",
            "              precision    recall  f1-score   support\n",
            "\n",
            "         0.0       0.00      0.00      0.00        32\n",
            "         1.0       0.30      1.00      0.47        14\n",
            "\n",
            "    accuracy                           0.30        46\n",
            "   macro avg       0.15      0.50      0.23        46\n",
            "weighted avg       0.09      0.30      0.14        46\n",
            "\n"
          ],
          "name": "stdout"
        },
        {
          "output_type": "stream",
          "text": [
            "/usr/local/lib/python3.6/dist-packages/sklearn/metrics/_classification.py:1272: UndefinedMetricWarning: Precision and F-score are ill-defined and being set to 0.0 in labels with no predicted samples. Use `zero_division` parameter to control this behavior.\n",
            "  _warn_prf(average, modifier, msg_start, len(result))\n"
          ],
          "name": "stderr"
        }
      ]
    },
    {
      "cell_type": "markdown",
      "metadata": {
        "id": "IdPBiOZhXgsE"
      },
      "source": [
        "**EVALUATION ON TESTDATA**"
      ]
    },
    {
      "cell_type": "code",
      "metadata": {
        "id": "9zYiha_zYmx-"
      },
      "source": [
        "AVG_LIST_PREDICTIONS = []\n",
        "MAX_LIST_PREDICTIONS = []\n",
        "y_test_labels= []\n",
        "\n",
        "for path, subdirs, files in os.walk(test_path): #iterating through folders of each WSI\n",
        "    if(fnmatch(path,folder_pattern)):\n",
        "        WSI_pred = list()\n",
        "        pred_prob_list = list()\n",
        "        # print(\"Iterating through all the patches in: \",os.path.normpath(path))\n",
        "        y_labels(path)\n",
        "\n",
        "        for name in files:\n",
        "          if fnmatch(name, file_pattern):#iterating through each patch in all WSI image and computing probabilities\n",
        "              prediction = pred_each_patch(path,name)\n",
        "              WSI_pred.append(prediction)#this list contains probabilities of all patches in testset images\n",
        "\n",
        "        #computing average and maximum prediction of each image - so that we can compute Whole slide level AUC - ROC than patch level\n",
        "        predictions = extract_index_one_frmpred(WSI_pred)\n",
        "        #This list contains average score of all 36 test set images\n",
        "        AVG_LIST_PREDICTIONS.append(avg(predictions))\n",
        "        MAX_LIST_PREDICTIONS.append(max(predictions))"
      ],
      "execution_count": 28,
      "outputs": []
    },
    {
      "cell_type": "code",
      "metadata": {
        "id": "tI1o6AuoppFv"
      },
      "source": [
        "#creating a datframe to save predictions with actuals\n",
        "df = pd.DataFrame()\n",
        "df['Average'] = AVG_LIST_PREDICTIONS\n",
        "df['Maximum'] = MAX_LIST_PREDICTIONS\n",
        "df['Actual labels'] = y_test_labels\n",
        "#saving into csv file for futher use\n",
        "df.to_csv('FOLD3_100_resnet34_test.csv',index = False,header = True)\n",
        "!cp FOLD3_100_resnet34_test.csv \"drive/My Drive/\""
      ],
      "execution_count": 36,
      "outputs": []
    },
    {
      "cell_type": "code",
      "metadata": {
        "id": "--baX8wepq9q",
        "outputId": "d0ed5fea-4b1e-483f-d19f-1df095e0bcbe",
        "colab": {
          "base_uri": "https://localhost:8080/",
          "height": 645
        }
      },
      "source": [
        "prediction_scores(y_test_labels,AVG_LIST_PREDICTIONS,MAX_LIST_PREDICTIONS)"
      ],
      "execution_count": 30,
      "outputs": [
        {
          "output_type": "stream",
          "text": [
            "AUC - ROC on Test data average prediction scores: 0.6584362139917695\n",
            "-----------------------------------------------------\n"
          ],
          "name": "stdout"
        },
        {
          "output_type": "display_data",
          "data": {
            "image/png": "[encoded data removed]",
            "text/plain": [
              "<Figure size 432x288 with 1 Axes>"
            ]
          },
          "metadata": {
            "tags": [],
            "needs_background": "light"
          }
        },
        {
          "output_type": "stream",
          "text": [
            "AUC - ROC on Test data maximum prediction scores: 0.6419753086419753\n",
            "-----------------------------------------------------\n"
          ],
          "name": "stdout"
        },
        {
          "output_type": "display_data",
          "data": {
            "image/png": "[encoded data removed]",
            "text/plain": [
              "<Figure size 432x288 with 1 Axes>"
            ]
          },
          "metadata": {
            "tags": [],
            "needs_background": "light"
          }
        }
      ]
    },
    {
      "cell_type": "code",
      "metadata": {
        "id": "-BljWrcHps7j",
        "outputId": "3e21ed92-b52f-42b2-cd33-865f44b47db4",
        "colab": {
          "base_uri": "https://localhost:8080/",
          "height": 645
        }
      },
      "source": [
        "pre_recall(y_test_labels,AVG_LIST_PREDICTIONS,MAX_LIST_PREDICTIONS)"
      ],
      "execution_count": 31,
      "outputs": [
        {
          "output_type": "stream",
          "text": [
            "Presicion - Recall auc on test data average score predictions: 0.3074092176345358\n",
            "-----------------------------------------------------\n"
          ],
          "name": "stdout"
        },
        {
          "output_type": "display_data",
          "data": {
            "image/png": "[encoded data removed]",
            "text/plain": [
              "<Figure size 432x288 with 1 Axes>"
            ]
          },
          "metadata": {
            "tags": [],
            "needs_background": "light"
          }
        },
        {
          "output_type": "stream",
          "text": [
            "Presicion - Recall auc on test data maximum score predictions: 0.38616651598535656\n",
            "-----------------------------------------------------\n"
          ],
          "name": "stdout"
        },
        {
          "output_type": "display_data",
          "data": {
            "image/png": "[encoded data removed]",
            "text/plain": [
              "<Figure size 432x288 with 1 Axes>"
            ]
          },
          "metadata": {
            "tags": [],
            "needs_background": "light"
          }
        }
      ]
    },
    {
      "cell_type": "code",
      "metadata": {
        "id": "ah7MzAtkpvlT",
        "outputId": "da59e0df-4b18-4a5d-bf1c-42d0c2fa4fda",
        "colab": {
          "base_uri": "https://localhost:8080/",
          "height": 187
        }
      },
      "source": [
        "AVG_LIST_PREDICTIONS = [round(x) for x in AVG_LIST_PREDICTIONS]\n",
        "print(\"CLASSIFICATION REPORT\")\n",
        "print(sklearn.metrics.classification_report(y_test_labels,AVG_LIST_PREDICTIONS))"
      ],
      "execution_count": 32,
      "outputs": [
        {
          "output_type": "stream",
          "text": [
            "CLASSIFICATION REPORT\n",
            "              precision    recall  f1-score   support\n",
            "\n",
            "         0.0       0.76      0.93      0.83        27\n",
            "         1.0       0.33      0.11      0.17         9\n",
            "\n",
            "    accuracy                           0.72        36\n",
            "   macro avg       0.55      0.52      0.50        36\n",
            "weighted avg       0.65      0.72      0.67        36\n",
            "\n"
          ],
          "name": "stdout"
        }
      ]
    },
    {
      "cell_type": "code",
      "metadata": {
        "id": "or4ThNlnpxoY",
        "outputId": "fd200543-f3df-4515-a17a-f33e7b453ddf",
        "colab": {
          "base_uri": "https://localhost:8080/",
          "height": 241
        }
      },
      "source": [
        "MAX_LIST_PREDICTIONS = [round(x) for x in MAX_LIST_PREDICTIONS]\n",
        "print(\"CLASSIFICATION REPORT for MAX VALUE PREDICTIONS\")\n",
        "print(sklearn.metrics.classification_report(y_test_labels,MAX_LIST_PREDICTIONS))"
      ],
      "execution_count": 33,
      "outputs": [
        {
          "output_type": "stream",
          "text": [
            "CLASSIFICATION REPORT for MAX VALUE PREDICTIONS\n",
            "              precision    recall  f1-score   support\n",
            "\n",
            "         0.0       0.00      0.00      0.00        27\n",
            "         1.0       0.25      1.00      0.40         9\n",
            "\n",
            "    accuracy                           0.25        36\n",
            "   macro avg       0.12      0.50      0.20        36\n",
            "weighted avg       0.06      0.25      0.10        36\n",
            "\n"
          ],
          "name": "stdout"
        },
        {
          "output_type": "stream",
          "text": [
            "/usr/local/lib/python3.6/dist-packages/sklearn/metrics/_classification.py:1272: UndefinedMetricWarning: Precision and F-score are ill-defined and being set to 0.0 in labels with no predicted samples. Use `zero_division` parameter to control this behavior.\n",
            "  _warn_prf(average, modifier, msg_start, len(result))\n"
          ],
          "name": "stderr"
        }
      ]
    },
    {
      "cell_type": "code",
      "metadata": {
        "id": "i-yXHpSAY91G"
      },
      "source": [
        "model.save(\"fold3_resnet34_100.h5\")"
      ],
      "execution_count": 34,
      "outputs": []
    }
  ]
}