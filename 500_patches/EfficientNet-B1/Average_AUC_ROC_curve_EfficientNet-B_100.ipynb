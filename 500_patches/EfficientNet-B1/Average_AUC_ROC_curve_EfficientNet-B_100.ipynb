{
 "cells": [
  {
   "cell_type": "code",
   "execution_count": 1,
   "metadata": {
    "id": "keytq_6yHu9z"
   },
   "outputs": [],
   "source": [
    "import numpy\n",
    "from bisect import bisect_left # for binary search\n",
    "import numpy.random as rand\n",
    "import matplotlib.pyplot as plt\n",
    "from scipy.spatial import ConvexHull\n",
    "import numpy as np\n",
    "\n",
    "\n",
    "\"\"\"\n",
    "Module for computing ROC curves and AUC scores\n",
    "Modified by Dr. Fayyaz Minhas\n",
    "Originally from: https://sourceforge.net/projects/pyml/\n",
    "\"\"\"\n",
    "\n",
    "import numpy\n",
    "from bisect import bisect_left # for binary search\n",
    "import numpy.random as rand\n",
    "import matplotlib.pyplot as plt\n",
    "from scipy.spatial import ConvexHull\n",
    "import numpy as np\n",
    "__docformat__ = \"restructuredtext en\"\n",
    "\n",
    "def roc( labels, dvals, rocN=None, normalize=True ) :\n",
    "    \"\"\"\n",
    "    Compute ROC curve coordinates and area\n",
    "    - `dvals`  - a list with the decision values of the classifier\n",
    "    - `labels` - list with class labels with positive class as +1 (all other will be taken as negative)\n",
    "    returns (FP coordinates, TP coordinates, AUC )\n",
    "    \"\"\"\n",
    "    if rocN is not None and rocN < 1 :\n",
    "        rocN = int(rocN * numpy.sum(numpy.not_equal(labels, 1)))\n",
    "\n",
    "    TP = 0.0  # current number of true positives\n",
    "    FP = 0.0  # current number of false positives\n",
    "    \n",
    "    fpc = [ 0.0 ]  # fp coordinates\n",
    "    tpc = [ 0.0 ]  # tp coordinates\n",
    "    dv_prev = -numpy.inf # previous decision value\n",
    "    TP_prev = 0.0\n",
    "    FP_prev = 0.0\n",
    "    area = 0.0\n",
    "\n",
    "    num_pos = labels.count( 1 )  # number of pos labels\n",
    "    num_neg = len(labels)-num_pos # number of neg labels\n",
    "    \n",
    "    if num_pos == 0 or num_pos == len(labels) :\n",
    "        raise(ValueError( \"There must be at least one example from each class\"))\n",
    "        \n",
    "\n",
    "    # sort decision values from highest to lowest\n",
    "    indices = numpy.argsort( dvals )[ ::-1 ]\n",
    "    \n",
    "    idx_prev = -1\n",
    "    for idx in indices:\n",
    "        # increment associated TP/FP count\n",
    "        if labels[ idx ] == 1:\n",
    "            TP += 1.\n",
    "        else:\n",
    "            FP += 1.\n",
    "            if rocN is not None and FP == rocN : \n",
    "                break\n",
    "        # Average points with common decision values\n",
    "        # by not adding a coordinate until all\n",
    "        # have been processed\n",
    "        if dvals[ idx ] != dv_prev:\n",
    "            if len(fpc) > 0 and FP == fpc[-1] :\n",
    "                tpc[-1] = TP\n",
    "            else :\n",
    "                fpc.append( FP  )\n",
    "                tpc.append( TP  )\n",
    "            dv_prev = dvals[ idx ]\n",
    "            area += _trap_area( ( FP_prev, TP_prev ), ( FP, TP ) )\n",
    "            FP_prev = FP\n",
    "            TP_prev = TP\n",
    "            idx_prev = idx\n",
    "\n",
    "    # Last few decision values were all the same,\n",
    "    # so must append final points and area\n",
    "    if idx_prev != indices[-1] :\n",
    "        tpc.append(num_pos)\n",
    "        fpc.append(num_neg)\n",
    "        area += _trap_area( ( FP, TP ), ( FP_prev, TP_prev ) )\n",
    "\n",
    "    #area += _trap_area( ( FP, TP ), ( FP_prev, TP_prev ) )\n",
    "    #fpc.append( FP  )\n",
    "    #tpc.append( TP )\n",
    "\n",
    "    if normalize :\n",
    "        fpc = [ float( x ) / FP for x in fpc ]\n",
    "        if TP > 0:\n",
    "            tpc = [ float( x ) / TP for x in tpc ]\n",
    "        if area > 0:\n",
    "            area /= ( num_pos * FP )\n",
    "\n",
    "    return fpc, tpc, area\n",
    "    \n",
    "def roc_VA( folds, rocN=None, n_samps=100 ):\n",
    "    \"\"\"\n",
    "    Compute ROC curve using vertical averaging\n",
    "    `folds` - list of ( labels, dvals ) pairs where labels\n",
    "              is a list of class labels and dvals are\n",
    "              the decision values of the classifier\n",
    "    \"\"\"\n",
    "    # return variables\n",
    "    invl = 1.0 / n_samps # interval to sample FPR\n",
    "    FPRs = numpy.arange( 0, (1+invl), invl )\n",
    "    TPRs = [ ] # will contain assoc TPR avgs for FPRs\n",
    "    # folds must be listified\n",
    "    assert type( folds ) == type( [ ] )\n",
    "    rocs = [ ] # list of roc tuples ( [FPR,TPR] ) for folds\n",
    "    areas = [ ] # individual AUCs for each fold\n",
    "\n",
    "    # calculate individual ROC curves for each fold\n",
    "    for dvals,labels in folds:\n",
    "        fpc, tpc, area = roc( dvals, labels, rocN )\n",
    "        rocs.append( (fpc, tpc) )\n",
    "        areas.append( area )\n",
    "\n",
    "    for fpr in FPRs:\n",
    "        # accumulate TPRs for current fpr over all folds\n",
    "        tpr_folds = [ ] \n",
    "        # fix FPR and accumulate (interpolated) TPRs\n",
    "        for fpc, tpc in rocs:\n",
    "            tpr_folds.append( _tpr_for_fpr( fpc, tpc, fpr ))\n",
    "        # average tprs and append\n",
    "        TPRs.append( numpy.mean( tpr_folds ) )\n",
    "    \n",
    "    return FPRs, numpy.array( TPRs ), numpy.mean( areas )\n",
    "\n",
    "\n",
    "def _tpr_for_fpr( fpc, tpc, fpr ):\n",
    "    \"\"\"\n",
    "    Returns the (estimated) tpr for the given fpr for \n",
    "    the given false positive/true positive coordinates\n",
    "    from an ROC curve.\n",
    "    `fpc` - False positive coordinates from ROC curve\n",
    "    `tpc` - True positive coordinates from ROC curve\n",
    "    \"\"\"\n",
    "    \n",
    "    # take advantage of monotonic property of ROC curves\n",
    "    # and search for fpr in O( log n ) time\n",
    "    idx = bisect_left( fpc, fpr, 0, len(fpc)-1 )\n",
    "    \n",
    "    # if exact match, then return\n",
    "    if fpc[ idx ] == fpr:\n",
    "        return tpc[ idx ]\n",
    "\n",
    "    else:\n",
    "        # check if idx is last index of fpc\n",
    "        #if idx == len( fpc ) - 1:\n",
    "        #    return tpc[ idx ]\n",
    "\n",
    "        # check if the neighboring fprs are identical\n",
    "        #elif fpc[ idx ] == fpc[ idx + 1 ]:\n",
    "            # return the average of the tprs \n",
    "        #    return ( tpc[ idx ] + tpc[ idx+1 ] ) / 2.0\n",
    "        # otherwise, interpolate the tpr\n",
    "        return _interpolate( ( fpc[ idx-1 ], tpc[ idx-1 ] ),\n",
    "                             ( fpc[ idx ], tpc[ idx ] ),\n",
    "                             fpr )\n",
    "\n",
    "def _interpolate( p1, p2, x ):\n",
    "    \"\"\"\n",
    "    Interpolate the value of f( x ).\n",
    "    `p1` - 1st interpolation point (x1, y1)\n",
    "    `p1` - 2nd interpolation point (x2, y2)\n",
    "    `x`  - the value to interpolate\n",
    "    \"\"\"\n",
    "    return p1[ 1 ] + _slope( p1, p2 ) * ( x - p1[ 0 ] )\n",
    "\n",
    "def _trap_area( p1, p2 ):\n",
    "    \"\"\"\n",
    "    Calculate the area of the trapezoid defined by points\n",
    "    p1 and p2\n",
    "    \n",
    "    `p1` - left side of the trapezoid\n",
    "    `p2` - right side of the trapezoid\n",
    "    \"\"\"\n",
    "    base = abs( p2[ 0 ] - p1[ 0 ] )\n",
    "    avg_ht = ( p1[ 1 ] + p2[ 1 ] ) / 2.0\n",
    "\n",
    "    return base * avg_ht\n",
    "\n",
    "def _slope( p1, p2 ):\n",
    "    \"\"\"\n",
    "    Calculates the slope of the line defined by\n",
    "    points p1 and p2\n",
    "    \"\"\"\n",
    "    delta_x = p2[ 0 ] - p1[ 0 ]\n",
    "    delta_y = p2[ 1 ] - p1[ 1 ]\n",
    "    \n",
    "    # if infinite slope, scream\n",
    "    if delta_x == 0: raise( \"Infinite slope\" )\n",
    "\n",
    "    return float( delta_y ) / delta_x\n",
    "\n",
    "def plotROC(rocFP, rocTP, fileName = None, **args) :\n",
    "    \"\"\"plot the ROC curve from a given Results (or Results-like) object\n",
    "    :Parameters:\n",
    "      - `res` - Results (or Container object that was made by saving a a\n",
    "        Results object (note that if you have a Results object you can\n",
    "        use this function as a method so there is no need to supply this\n",
    "        argument).\n",
    "      - `fileName` - optional argument - if given, the roc curve is saved\n",
    "        in the given file name.  The format is determined by the extension.\n",
    "        Supported extensions: .eps, .png, .svg\n",
    "    \n",
    "    :Keywords:\n",
    "      - `normalize` - whether to normalize the ROC curve (default: True)\n",
    "      - `plotStr` - which string to pass to matplotlib's plot function\n",
    "        default: 'k-'\n",
    "      - `axis` - redefine the figure axes; takes a list of the form\n",
    "        [xmin,xmax,ymin,ymax]\n",
    "      - `show` - whether to show the ROC curve (default: True)\n",
    "        useful when you just want to save the curve to a file.\n",
    "        The use of Some file formats automatically sets this to False\n",
    "        (e.g. svg files).  This relates to quirks of matplotlib.\n",
    "    \"\"\"\n",
    "\n",
    "    if 'show' in args :\n",
    "        show = args['show']\n",
    "    else :\n",
    "        show = True\n",
    "    if 'plotStr' in args :\n",
    "        plotStr = args['plotStr']\n",
    "    else :\n",
    "        plotStr = 'ko-'\n",
    "    rocNormalize = True\n",
    "    if 'normalize' in args :\n",
    "        rocNormalize = args['normalize']\n",
    "\n",
    "    numPoints = 200\n",
    "    if 'numPoints' in args :\n",
    "        numPoints = args['numPoints']\n",
    "        \n",
    "    stride = int(max(1, float(len(rocTP)) / float(numPoints)))\n",
    "\n",
    "    if stride > 1 :\n",
    "        rocTP = [rocTP[i] for i in range(0,len(rocTP), stride)]\n",
    "        rocFP = [rocFP[i] for i in range(0,len(rocFP), stride)]        \n",
    "        \n",
    "    import matplotlib\n",
    "    if fileName is not None and fileName.find('.svg') > 0 :\n",
    "        matplotlib.use('SVG')\n",
    "        show = False\n",
    "    if fileName is not None and fileName.find('.eps') > 0 :\n",
    "        matplotlib.use('PS')\n",
    "        show = False\n",
    "\n",
    "    from matplotlib import pylab\n",
    "    lines = pylab.plot(rocFP, rocTP, plotStr,\n",
    "                       markersize = 8, linewidth = 3)\n",
    "    if rocNormalize :\n",
    "        pylab.xlabel('False positive rate', fontsize = 18)\n",
    "        pylab.ylabel('True positive rate', fontsize = 18)\n",
    "    else :\n",
    "        pylab.xlabel('False positives', fontsize = 18)\n",
    "        pylab.ylabel('True positives', fontsize = 18)\n",
    "    if rocNormalize :\n",
    "        pylab.axis([0, 1, 0, 1])\n",
    "    if 'axis' in args :\n",
    "        pylab.axis(args['axis'])\n",
    "    if fileName is not None :\n",
    "        pylab.savefig(fileName)\n",
    "    if show :\n",
    "        plt.grid()\n",
    "        pylab.show()\n",
    "\n",
    "\n",
    "def rocch(fpr0,tpr0):\n",
    "    \"\"\"\n",
    "    @author: Dr. Fayyaz Minhas (http://faculty.pieas.edu.pk/fayyaz/)\n",
    "    Construct the convex hull of a Receiver Operating Characteristic (ROC) curve\n",
    "        Input:\n",
    "            fpr0: List of false positive rates in range [0,1]\n",
    "            tpr0: List of true positive rates in range [0,1]\n",
    "                fpr0,tpr0 can be obtained from sklearn.metrics.roc_curve or \n",
    "                    any other packages such as pyml\n",
    "        Return:\n",
    "            F: list of false positive rates on the convex hull\n",
    "            T: list of true positive rates on the convex hull\n",
    "                plt.plot(F,T) will plot the convex hull\n",
    "            auc: Area under the ROC Convex hull\n",
    "    \"\"\"\n",
    "    fpr = np.array([0]+list(fpr0)+[1.0,1,0])\n",
    "    tpr = np.array([0]+list(tpr0)+[1.0,0,0])\n",
    "    hull = ConvexHull(np.vstack((fpr,tpr)).T)\n",
    "    vert = hull.vertices\n",
    "    vert = vert[np.argsort(fpr[vert])]  \n",
    "    F = [0]\n",
    "    T = [0]\n",
    "    for v in vert:\n",
    "        ft = (fpr[v],tpr[v])\n",
    "        if ft==(0,0) or ft==(1,1) or ft==(1,0):\n",
    "            continue\n",
    "        F+=[fpr[v]]\n",
    "        T+=[tpr[v]]\n",
    "    F+=[1]\n",
    "    T+=[1]\n",
    "    auc = np.trapz(T,F)\n",
    "    return F,T,auc"
   ]
  },
  {
   "cell_type": "markdown",
   "metadata": {
    "id": "tKhiBByfImVs"
   },
   "source": [
    "**TEST DATA AVERAGE CURVES ACROSS 3 FOLDS**"
   ]
  },
  {
   "cell_type": "code",
   "execution_count": 3,
   "metadata": {
    "id": "Xno3MyPKH_EZ"
   },
   "outputs": [],
   "source": [
    "import pandas as pd\n",
    "from sklearn.metrics import auc,roc_curve\n",
    "fold1_average_test = []\n",
    "fold1_max_test = []\n",
    "fold2_average_test = []\n",
    "fold2_max_test = []\n",
    "fold3_average_test = []\n",
    "fold3_max_test = []\n",
    "#fold 1\n",
    "df_1 = pd.read_csv(\"/Users/Geethika/Desktop/new_dataset/saved_model weights/efficientnet-500/FOLD1_500_efficient_test.csv\")\n",
    "\n",
    "average_fold1 = df_1['Average'].tolist()\n",
    "actual_labelsfold1 = df_1['Actual Labels'].tolist()\n",
    "maximum_fold1 = df_1['Maximum'].tolist()\n",
    "#creating tuples\n",
    "fold1_average_test.append(tuple(actual_labelsfold1))\n",
    "fold1_average_test.append(tuple(average_fold1))\n",
    "#max\n",
    "fold1_max_test.append(tuple(actual_labelsfold1))\n",
    "fold1_max_test.append(tuple(maximum_fold1))\n",
    "#fold2\n",
    "df_2 = pd.read_csv(\"/Users/Geethika/Desktop/new_dataset/saved_model weights/efficientnet-500/FOLD2_500_efficient_test.csv\")\n",
    "average_fold2 = df_2['Average'].tolist()\n",
    "actual_labelsfold2 = df_2['Actual Labels'].tolist()\n",
    "maximum_fold2 = df_2['Maximum'].tolist()\n",
    "#creating a list of tuples\n",
    "fold2_average_test.append(tuple(actual_labelsfold2))\n",
    "fold2_average_test.append(tuple(average_fold2))\n",
    "#max\n",
    "fold2_max_test.append(tuple(actual_labelsfold2))\n",
    "fold2_max_test.append(tuple(maximum_fold2))\n",
    "#fold3\n",
    "df_3 = pd.read_csv(\"/Users/Geethika/Desktop/new_dataset/saved_model weights/efficientnet-500/FOLD3_500_efficient_test.csv\")\n",
    "average_fold3 = df_3['Average'].tolist()\n",
    "actual_labelsfold3 = df_3['Actual Labels'].tolist()\n",
    "maximum_fold3 = df_3['Maximum'].tolist()\n",
    "#fold3 creating a list of tuples\n",
    "fold3_average_test.append(tuple(actual_labelsfold3))\n",
    "fold3_average_test.append(tuple(average_fold3))\n",
    "#max\n",
    "fold3_max_test.append(tuple(actual_labelsfold3))\n",
    "fold3_max_test.append(tuple(maximum_fold3))"
   ]
  },
  {
   "cell_type": "code",
   "execution_count": 4,
   "metadata": {
    "id": "DPOap_ViIFaf"
   },
   "outputs": [],
   "source": [
    "folds_average = []\n",
    "folds_maximum = []\n",
    "\n",
    "#making a list of all tuples folds = list[tuple(actuals), tuple(pred)]\n",
    "folds_average.append(fold1_average_test)\n",
    "folds_average.append(fold2_average_test)\n",
    "folds_average.append(fold3_average_test)\n",
    "\n",
    "#making a list of all tuples folds = list[tuple(actuals), tuple(pred)]\n",
    "folds_maximum.append(fold1_max_test)\n",
    "folds_maximum.append(fold2_max_test)\n",
    "folds_maximum.append(fold3_max_test)"
   ]
  },
  {
   "cell_type": "code",
   "execution_count": 5,
   "metadata": {
    "colab": {
     "base_uri": "https://localhost:8080/",
     "height": 325
    },
    "id": "jgHLOX9EIKTH",
    "outputId": "5bc64773-aaf0-4902-8429-6382f448025e"
   },
   "outputs": [
    {
     "data": {
      "image/png": "[encoded data removed]",
      "text/plain": [
       "<Figure size 432x288 with 1 Axes>"
      ]
     },
     "metadata": {
      "needs_background": "light"
     },
     "output_type": "display_data"
    },
    {
     "name": "stdout",
     "output_type": "stream",
     "text": [
      "AUC-ROC: 0.7146776406035665\n",
      "Average plot across 3 folds on test data with average score predictions\n"
     ]
    }
   ],
   "source": [
    "# Calculate average ROC curve\n",
    "fpr0, tpr0, area0 = roc_VA( folds_average ) #get average plot across folds\n",
    "plotROC(fpr0, tpr0)\n",
    "print(\"AUC-ROC:\",area0)\n",
    "print(\"Average plot across 3 folds on test data with average score predictions\")"
   ]
  },
  {
   "cell_type": "code",
   "execution_count": 6,
   "metadata": {
    "colab": {
     "base_uri": "https://localhost:8080/",
     "height": 325
    },
    "id": "N-isNgwvIMf9",
    "outputId": "d99a565a-f573-4d9a-dc70-032b1d98b105"
   },
   "outputs": [
    {
     "data": {
      "image/png": "[encoded data removed]",
      "text/plain": [
       "<Figure size 432x288 with 1 Axes>"
      ]
     },
     "metadata": {
      "needs_background": "light"
     },
     "output_type": "display_data"
    },
    {
     "name": "stdout",
     "output_type": "stream",
     "text": [
      "AUC-ROC: 0.6495198902606311\n",
      "Average plot across 3 folds on test data with maximum value in predictions scores\n"
     ]
    }
   ],
   "source": [
    "# Calculate average ROC curve\n",
    "fpr0, tpr0, area0 = roc_VA( folds_maximum ) #get average plot across folds\n",
    "plotROC(fpr0, tpr0)\n",
    "print(\"AUC-ROC:\",area0)\n",
    "print(\"Average plot across 3 folds on test data with maximum value in predictions scores\")"
   ]
  },
  {
   "cell_type": "markdown",
   "metadata": {
    "id": "x6GgzpdmIe19"
   },
   "source": [
    "**AVERAGE CURVES ON VALIDATION DATA**"
   ]
  },
  {
   "cell_type": "code",
   "execution_count": 8,
   "metadata": {
    "id": "mP53sO3bIPi_"
   },
   "outputs": [],
   "source": [
    "import pandas as pd\n",
    "from sklearn.metrics import auc,roc_curve\n",
    "fold1_average_val = []\n",
    "fold1_max_val = []\n",
    "fold2_average_val = []\n",
    "fold2_max_val = []\n",
    "fold3_average_val = []\n",
    "fold3_max_val = []\n",
    "#fold 1\n",
    "df_1 = pd.read_csv(\"/Users/Geethika/Desktop/new_dataset/saved_model weights/efficientnet-500/FOLD1_500_efficient_val.csv\")\n",
    "average_fold1 = df_1['Average'].tolist()\n",
    "actual_labelsfold1 = df_1['Actual labels'].tolist()\n",
    "maximum_fold1 = df_1['Maximum'].tolist()\n",
    "#creating tuples\n",
    "fold1_average_val.append(tuple(actual_labelsfold1))\n",
    "fold1_average_val.append(tuple(average_fold1))\n",
    "#max\n",
    "fold1_max_val.append(tuple(actual_labelsfold1))\n",
    "fold1_max_val.append(tuple(maximum_fold1))\n",
    "#fold2\n",
    "df_2 = pd.read_csv(\"/Users/Geethika/Desktop/new_dataset/saved_model weights/efficientnet-500/FOLD2_500_efficient_val.csv\")\n",
    "average_fold2 = df_2['Average'].tolist()\n",
    "actual_labelsfold2 = df_2['Actual labels'].tolist()\n",
    "maximum_fold2 = df_2['Maximum'].tolist()\n",
    "#creating a list of tuples\n",
    "fold2_average_val.append(tuple(actual_labelsfold2))\n",
    "fold2_average_val.append(tuple(average_fold2))\n",
    "#max\n",
    "fold2_max_val.append(tuple(actual_labelsfold2))\n",
    "fold2_max_val.append(tuple(maximum_fold2))\n",
    "#fold3\n",
    "df_3 = pd.read_csv(\"/Users/Geethika/Desktop/new_dataset/saved_model weights/efficientnet-500/FOLD3_500_efficient_val.csv\")\n",
    "average_fold3 = df_3['Average'].tolist()\n",
    "actual_labelsfold3 = df_3['Actual labels'].tolist()\n",
    "maximum_fold3 = df_3['Maximum'].tolist()\n",
    "#fold3 creating a list of tuples\n",
    "fold3_average_val.append(tuple(actual_labelsfold3))\n",
    "fold3_average_val.append(tuple(average_fold3))\n",
    "#max\n",
    "fold3_max_val.append(tuple(actual_labelsfold3))\n",
    "fold3_max_val.append(tuple(maximum_fold3))"
   ]
  },
  {
   "cell_type": "code",
   "execution_count": 9,
   "metadata": {
    "id": "s04w_INYITKc"
   },
   "outputs": [],
   "source": [
    "folds_average_val =[]\n",
    "folds_maximum_val =[]\n",
    "#making a list of all tuples folds = list[tuple(actuals), tuple(pred)]\n",
    "folds_average_val.append(fold1_average_val)\n",
    "folds_average_val.append(fold2_average_val)\n",
    "folds_average_val.append(fold3_average_val)\n",
    "\n",
    "#making a list of all tuples folds = list[tuple(actuals), tuple(pred)]\n",
    "folds_maximum_val.append(fold1_max_val)\n",
    "folds_maximum_val.append(fold2_max_val)\n",
    "folds_maximum_val.append(fold3_max_val)"
   ]
  },
  {
   "cell_type": "code",
   "execution_count": 10,
   "metadata": {
    "colab": {
     "base_uri": "https://localhost:8080/",
     "height": 325
    },
    "id": "1ckZhYwaIV9-",
    "outputId": "e6c9a69a-d8bc-4abe-f115-fc0bc51638b8"
   },
   "outputs": [
    {
     "data": {
      "image/png": "[encoded data removed]",
      "text/plain": [
       "<Figure size 432x288 with 1 Axes>"
      ]
     },
     "metadata": {
      "needs_background": "light"
     },
     "output_type": "display_data"
    },
    {
     "name": "stdout",
     "output_type": "stream",
     "text": [
      "AUC-ROC: 0.6292449380684675\n",
      "Average plot across 3 folds on validation data with average score predictions\n"
     ]
    }
   ],
   "source": [
    "# Calculate average ROC curve\n",
    "fpr0, tpr0, area0 = roc_VA( folds_average_val ) #get average plot across folds\n",
    "plotROC(fpr0, tpr0);\n",
    "print(\"AUC-ROC:\",area0)\n",
    "print(\"Average plot across 3 folds on validation data with average score predictions\")"
   ]
  },
  {
   "cell_type": "code",
   "execution_count": 11,
   "metadata": {
    "colab": {
     "base_uri": "https://localhost:8080/",
     "height": 325
    },
    "id": "NepFZAllIYHA",
    "outputId": "ca911648-cbbc-4d6f-fc46-3829d899e851"
   },
   "outputs": [
    {
     "data": {
      "image/png": "[encoded data removed]",
      "text/plain": [
       "<Figure size 432x288 with 1 Axes>"
      ]
     },
     "metadata": {
      "needs_background": "light"
     },
     "output_type": "display_data"
    },
    {
     "name": "stdout",
     "output_type": "stream",
     "text": [
      "AUC-ROC: 0.6590052104757987\n",
      "Average plot across 3 folds on validation data with maximum values in prediction scores\n"
     ]
    }
   ],
   "source": [
    "# Calculate average ROC curve\n",
    "fpr0, tpr0, area0 = roc_VA( folds_maximum_val ) #get average plot across folds\n",
    "plotROC(fpr0, tpr0);\n",
    "print(\"AUC-ROC:\",area0)\n",
    "print(\"Average plot across 3 folds on validation data with maximum values in prediction scores\")"
   ]
  },
  {
   "cell_type": "code",
   "execution_count": null,
   "metadata": {},
   "outputs": [],
   "source": []
  }
 ],
 "metadata": {
  "colab": {
   "name": "Average_AUC_ROC_curve_ResNet_18_500.ipynb",
   "provenance": []
  },
  "kernelspec": {
   "display_name": "Python 3",
   "language": "python",
   "name": "python3"
  },
  "language_info": {
   "codemirror_mode": {
    "name": "ipython",
    "version": 3
   },
   "file_extension": ".py",
   "mimetype": "text/x-python",
   "name": "python",
   "nbconvert_exporter": "python",
   "pygments_lexer": "ipython3",
   "version": "3.7.7"
  }
 },
 "nbformat": 4,
 "nbformat_minor": 1
}
