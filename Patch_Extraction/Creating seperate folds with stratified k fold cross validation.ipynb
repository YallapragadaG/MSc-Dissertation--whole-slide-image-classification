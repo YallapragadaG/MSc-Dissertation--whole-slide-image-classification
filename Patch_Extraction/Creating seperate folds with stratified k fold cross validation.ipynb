{
 "cells": [
  {
   "cell_type": "code",
   "execution_count": 1,
   "metadata": {},
   "outputs": [
    {
     "name": "stdout",
     "output_type": "stream",
     "text": [
      "Train dataset count: 123\n",
      "Validation dataset count: 16\n"
     ]
    }
   ],
   "source": [
    "import os\n",
    "import fnmatch \n",
    "from sklearn.model_selection import StratifiedKFold\n",
    "import numpy as np\n",
    "\n",
    "val_list = []\n",
    "train_list = []\n",
    "folder_pattern = \"*TCGA-*\"\n",
    "for path,subdir,files in os.walk(\"Desktop/new_dataset/Dataset_1000/Validation\"):\n",
    "    if (fnmatch.fnmatch(path,folder_pattern)):\n",
    "            \n",
    "            x = os.path.normpath(path)\n",
    "            val_list.append(x)\n",
    "            \n",
    "for path,subdir,files in os.walk(\"Desktop/new_dataset/Dataset_1000/Train\"):\n",
    "    if (fnmatch.fnmatch(path,folder_pattern)):\n",
    "        \n",
    "            x = os.path.normpath(path)\n",
    "            train_list.append(x)\n",
    " \n",
    "\n",
    "\n",
    "print(\"Train dataset count:\",len(train_list))\n",
    "print(\"Validation dataset count:\",len(val_list))"
   ]
  },
  {
   "cell_type": "code",
   "execution_count": 2,
   "metadata": {},
   "outputs": [
    {
     "name": "stdout",
     "output_type": "stream",
     "text": [
      "Nonepithelioid count in Train Images: 33\n",
      "Epitheliid count in Train Images: 90\n"
     ]
    }
   ],
   "source": [
    "Xtrain = np.array(train_list)\n",
    "Ytrain_epi = np.zeros(90)\n",
    "ytrain_nonepi = np.ones(33)\n",
    "\n",
    "Ytrain = np.concatenate((Ytrain_epi, ytrain_nonepi), axis=None)\n",
    "\n",
    "output_1 = list(Ytrain[Ytrain ==1.])\n",
    "epi_1 = list(Ytrain[Ytrain == 0.])\n",
    "print(\"Nonepithelioid count in Train Images:\",len(output_1))\n",
    "print(\"Epitheliid count in Train Images:\",len(epi_1))"
   ]
  },
  {
   "cell_type": "markdown",
   "metadata": {},
   "source": [
    "<h3>STRATIFIED 3 FOLD CROSS VALIDATION ON TRAIN IMAGES</h3>"
   ]
  },
  {
   "cell_type": "code",
   "execution_count": 3,
   "metadata": {},
   "outputs": [
    {
     "name": "stdout",
     "output_type": "stream",
     "text": [
      "Fold : 1\n",
      "---------------------------------------------------------------------------\n",
      "Train : [  0   3   4   8   9  12  14  15  16  17  18  19  20  21  23  24  27  28\n",
      "  29  31  32  35  38  39  40  41  44  45  46  50  51  52  54  55  56  57\n",
      "  62  63  64  65  66  67  68  69  70  72  73  74  75  76  77  78  79  80\n",
      "  81  83  85  87  88  89  90  91  94  96  98  99 100 102 103 105 106 108\n",
      " 111 112 113 114 115 116 117 118 119 121]\n",
      "Validation: [  1   2   5   6   7  10  11  13  22  25  26  30  33  34  36  37  42  43\n",
      "  47  48  49  53  58  59  60  61  71  82  84  86  92  93  95  97 101 104\n",
      " 107 109 110 120 122]\n",
      "########################################\n",
      "length of Train index : 82\n",
      "length of validation index : 41\n",
      "Fold : 2\n",
      "---------------------------------------------------------------------------\n",
      "Train : [  0   1   2   3   5   6   7   8  10  11  12  13  15  17  19  20  22  23\n",
      "  25  26  28  29  30  31  33  34  36  37  38  39  41  42  43  44  46  47\n",
      "  48  49  52  53  54  57  58  59  60  61  63  66  67  71  72  74  75  78\n",
      "  80  82  84  86  88  89  92  93  95  96  97  98  99 100 101 102 104 106\n",
      " 107 108 109 110 112 113 116 117 120 122]\n",
      "Validation: [  4   9  14  16  18  21  24  27  32  35  40  45  50  51  55  56  62  64\n",
      "  65  68  69  70  73  76  77  79  81  83  85  87  90  91  94 103 105 111\n",
      " 114 115 118 119 121]\n",
      "########################################\n",
      "length of Train index : 82\n",
      "length of validation index : 41\n",
      "Fold : 3\n",
      "---------------------------------------------------------------------------\n",
      "Train : [  1   2   4   5   6   7   9  10  11  13  14  16  18  21  22  24  25  26\n",
      "  27  30  32  33  34  35  36  37  40  42  43  45  47  48  49  50  51  53\n",
      "  55  56  58  59  60  61  62  64  65  68  69  70  71  73  76  77  79  81\n",
      "  82  83  84  85  86  87  90  91  92  93  94  95  97 101 103 104 105 107\n",
      " 109 110 111 114 115 118 119 120 121 122]\n",
      "Validation: [  0   3   8  12  15  17  19  20  23  28  29  31  38  39  41  44  46  52\n",
      "  54  57  63  66  67  72  74  75  78  80  88  89  96  98  99 100 102 106\n",
      " 108 112 113 116 117]\n",
      "########################################\n",
      "length of Train index : 82\n",
      "length of validation index : 41\n"
     ]
    }
   ],
   "source": [
    "import shutil\n",
    "\n",
    "def make_directory(destination,train_list,j):\n",
    "    \n",
    "    if os.path.exists(destination+'/'+os.path.basename(os.path.normpath(train_list[j]))):\n",
    "        pass\n",
    "    else:\n",
    "        os.mkdir(destination+'/'+os.path.basename(os.path.normpath(train_list[j])))\n",
    "        \n",
    "    return\n",
    "\n",
    "\n",
    "sk_fold = StratifiedKFold(n_splits=3,shuffle=True, random_state=43)\n",
    "\n",
    "\n",
    "i = 1\n",
    "for train_index, val_index in sk_fold.split(Xtrain,Ytrain):\n",
    "    print(\"Fold :\",i)\n",
    "    print(\"---------------------------------------------------------------------------\")\n",
    "    \n",
    "    path = \"Desktop/new_dataset/\"+\"FOLD\"+str(i)+\"/\"+\"Train/\"\n",
    "    val_path = \"Desktop/new_dataset/\"+\"FOLD\"+str(i)+\"/\"+\"Validation/\"\n",
    "    \n",
    "    print(\"Train :\",train_index)\n",
    "    print(\"Validation:\",val_index)\n",
    "    print(\"########################################\")\n",
    "    print(\"length of Train index :\",train_index.shape[0])\n",
    "    print(\"length of validation index :\",val_index.shape[0])\n",
    "    \n",
    "    for j in train_index:\n",
    "        \n",
    "        for dirs,sub,files in os.walk(train_list[j]):\n",
    "            \n",
    "            for x in files:\n",
    "                \n",
    "                if \"Epithelioid\" in train_list[j]:\n",
    "                    \n",
    "                    destination = path+'Epithelioid'\n",
    "            \n",
    "                    make_directory(destination,train_list,j)\n",
    "                  \n",
    "                    \n",
    "                    shutil.copy(str(train_list[j])+'/'+x, destination+'/'+os.path.basename(os.path.normpath(train_list[j])))\n",
    "                \n",
    "                elif \"Nonepithelioid\" in train_list[j]:\n",
    "\n",
    "                      destination = path+'Nonepithelioid'\n",
    "                    \n",
    "                    \n",
    "                      make_directory(destination,train_list,j)\n",
    "                    \n",
    "                      shutil.copy(str(train_list[j])+'/'+x, destination+'/'+os.path.basename(os.path.normpath(train_list[j])))\n",
    "                    \n",
    "    \n",
    "    \n",
    "    for z in val_index:\n",
    "        \n",
    "        for dirs,sub,files in os.walk(train_list[z]):\n",
    "            \n",
    "            for x in files:\n",
    "                \n",
    "                if \"Epithelioid\" in train_list[z]:\n",
    "                    \n",
    "                    destination = val_path+'Epithelioid'\n",
    "            \n",
    "                    make_directory(destination,train_list,z)\n",
    "                  \n",
    "                    \n",
    "                    shutil.copy(str(train_list[z])+'/'+x, destination+'/'+os.path.basename(os.path.normpath(train_list[z])))\n",
    "                \n",
    "                elif \"Nonepithelioid\" in train_list[z]:\n",
    "\n",
    "                      destination = val_path+'Nonepithelioid'\n",
    "                    \n",
    "                    \n",
    "                      make_directory(destination,train_list,z)\n",
    "                    \n",
    "                      shutil.copy(str(train_list[z])+'/'+x, destination+'/'+os.path.basename(os.path.normpath(train_list[z])))\n",
    "                    \n",
    "    \n",
    "    \n",
    "    \n",
    "    i += 1"
   ]
  },
  {
   "cell_type": "markdown",
   "metadata": {},
   "source": [
    "<h3>VALIDATION DATASET</h3>"
   ]
  },
  {
   "cell_type": "code",
   "execution_count": 4,
   "metadata": {},
   "outputs": [
    {
     "name": "stdout",
     "output_type": "stream",
     "text": [
      "Nonepithelioid count in Validation Images: 5\n",
      "Epitheliid count in Validation Images: 11\n"
     ]
    }
   ],
   "source": [
    "\n",
    "Xval = np.array(val_list)\n",
    "Yval_epi = np.zeros(11)\n",
    "yval_nonepi = np.ones(5)\n",
    "\n",
    "Yval = np.concatenate((Yval_epi, yval_nonepi), axis=None)\n",
    "\n",
    "output = list(Yval[Yval ==1.])\n",
    "epi = list(Yval[Yval == 0.])\n",
    "print(\"Nonepithelioid count in Validation Images:\",len(output))\n",
    "print(\"Epitheliid count in Validation Images:\",len(epi))"
   ]
  },
  {
   "cell_type": "markdown",
   "metadata": {},
   "source": [
    "<h3>STRATIFIED 3 FOLD CROSS VALIDATION ON VALIDATION IMAGES</h3>"
   ]
  },
  {
   "cell_type": "code",
   "execution_count": 5,
   "metadata": {},
   "outputs": [
    {
     "name": "stdout",
     "output_type": "stream",
     "text": [
      "Fold : 1\n",
      "---------------------------------------------------------------------------\n",
      "Train : [ 0  1  2  3  5  7 10 11 13 14]\n",
      "Validation: [ 4  6  8  9 12 15]\n",
      "########################################\n",
      "length of Train index : 10\n",
      "length of validation index : 6\n",
      "Fold : 2\n",
      "---------------------------------------------------------------------------\n",
      "Train : [ 0  3  4  5  6  8  9 11 12 14 15]\n",
      "Validation: [ 1  2  7 10 13]\n",
      "########################################\n",
      "length of Train index : 11\n",
      "length of validation index : 5\n",
      "Fold : 3\n",
      "---------------------------------------------------------------------------\n",
      "Train : [ 1  2  4  6  7  8  9 10 12 13 15]\n",
      "Validation: [ 0  3  5 11 14]\n",
      "########################################\n",
      "length of Train index : 11\n",
      "length of validation index : 5\n"
     ]
    }
   ],
   "source": [
    "sk_fold_val = StratifiedKFold(n_splits=3,shuffle=True, random_state=43)\n",
    "\n",
    "\n",
    "i = 1\n",
    "for train_index, val_index in sk_fold_val.split(Xval,Yval):\n",
    "    print(\"Fold :\",i)\n",
    "    print(\"---------------------------------------------------------------------------\")\n",
    "    path = \"Desktop/new_dataset/\"+\"Fold\"+str(i)+\"/\"+\"Train/\"\n",
    "    val_path = \"Desktop/new_dataset/\"+\"Fold\"+str(i)+\"/\"+\"Validation/\"\n",
    "   \n",
    "    print(\"Train :\",train_index)\n",
    "    print(\"Validation:\",val_index)\n",
    "    print(\"########################################\")\n",
    "    print(\"length of Train index :\",train_index.shape[0])\n",
    "    print(\"length of validation index :\",val_index.shape[0])\n",
    "    \n",
    "    for j in train_index:\n",
    "        \n",
    "        for dirs,sub,files in os.walk(val_list[j]):\n",
    "            \n",
    "            for x in files:\n",
    "                \n",
    "                if \"Epithelioid\" in val_list[j]:\n",
    "                    \n",
    "                    destination = path+'Epithelioid'\n",
    "            \n",
    "                    make_directory(destination,val_list,j)\n",
    "                  \n",
    "                    \n",
    "                    shutil.copy(str(val_list[j])+'/'+x, destination+'/'+os.path.basename(os.path.normpath(val_list[j])))\n",
    "                \n",
    "                elif \"Nonepithelioid\" in val_list[j]:\n",
    "\n",
    "                      destination = path+'Nonepithelioid'\n",
    "                    \n",
    "                    \n",
    "                      make_directory(destination,val_list,j)\n",
    "                    \n",
    "                      shutil.copy(str(val_list[j])+'/'+x, destination+'/'+os.path.basename(os.path.normpath(val_list[j])))\n",
    "                    \n",
    "    \n",
    "    \n",
    "    for z in val_index:\n",
    "        \n",
    "        for dirs,sub,files in os.walk(val_list[z]):\n",
    "            \n",
    "            for x in files:\n",
    "                \n",
    "                if \"Epithelioid\" in val_list[z]:\n",
    "                    \n",
    "                    destination = val_path+'Epithelioid'\n",
    "            \n",
    "                    make_directory(destination,val_list,z)\n",
    "                  \n",
    "                    \n",
    "                    shutil.copy(str(val_list[z])+'/'+x, destination+'/'+os.path.basename(os.path.normpath(val_list[z])))\n",
    "                \n",
    "                elif \"Nonepithelioid\" in val_list[z]:\n",
    "\n",
    "                      destination = val_path+'Nonepithelioid'\n",
    "                    \n",
    "                    \n",
    "                      make_directory(destination,val_list,z)\n",
    "                    \n",
    "                      shutil.copy(str(val_list[z])+'/'+x, destination+'/'+os.path.basename(os.path.normpath(val_list[z])))\n",
    "                    \n",
    "    \n",
    "    \n",
    "    \n",
    "    i += 1"
   ]
  },
  {
   "cell_type": "markdown",
   "metadata": {},
   "source": [
    "FOLD 1"
   ]
  },
  {
   "cell_type": "code",
   "execution_count": 11,
   "metadata": {},
   "outputs": [
    {
     "name": "stdout",
     "output_type": "stream",
     "text": [
      "WHOLE SLIDE IMAGES IN TRAIN DATASET FOLD1: 92\n",
      "EPITHELIOID COUNT IN TRAIN IMAGES : 67\n",
      "NONEPITHELIOID COUNT IN TRAIN IMAGES : 25\n",
      "----------------------------------------------------------------\n",
      "WHOLE SLIDE IMAGES IN VALIDATION DATASET FOLD1: 47\n",
      "EPITHELIOID COUNT IN VALIDATION IMAGES : 34\n",
      "NONEPITHELIOID COUNT IN VALIDATION IMAGES : 13\n"
     ]
    }
   ],
   "source": [
    "import os\n",
    "import fnmatch \n",
    "valfold1_list = []\n",
    "trainfold1_list = []\n",
    "train_epi_fold1 = []\n",
    "train_nonepi_fold1 = []\n",
    "val_epi_fold1 = []\n",
    "val_nonepi_fold1 = []\n",
    "folder_pattern = \"*TCGA-*\"\n",
    "for path,subdir,files in os.walk(\"Desktop/new_dataset/fold1_100/Validation\"):\n",
    "    if (fnmatch.fnmatch(path,folder_pattern)):\n",
    "            x = os.path.basename(os.path.normpath(path))\n",
    "            valfold1_list.append(x)\n",
    "            if 'Epithelioid' in path:\n",
    "                val_epi_fold1.append(x)\n",
    "            elif 'Nonepithelioid' in path:\n",
    "                val_nonepi_fold1.append(x)\n",
    "            \n",
    "for path,subdir,files in os.walk(\"Desktop/new_dataset/fold1_100/Train\"):\n",
    "    if (fnmatch.fnmatch(path,folder_pattern)):\n",
    "            x = os.path.basename(os.path.normpath(path))\n",
    "            trainfold1_list.append(x)\n",
    "            if 'Epithelioid' in path:\n",
    "                train_epi_fold1.append(x)\n",
    "            elif 'Nonepithelioid' in path:\n",
    "                train_nonepi_fold1.append(x)\n",
    "            \n",
    "\n",
    "print(\"WHOLE SLIDE IMAGES IN TRAIN DATASET FOLD1:\",len(trainfold1_list))\n",
    "print(\"EPITHELIOID COUNT IN TRAIN IMAGES :\",len(train_epi_fold1))\n",
    "print(\"NONEPITHELIOID COUNT IN TRAIN IMAGES :\",len(train_nonepi_fold1))\n",
    "print(\"----------------------------------------------------------------\")\n",
    "print(\"WHOLE SLIDE IMAGES IN VALIDATION DATASET FOLD1:\",len(valfold1_list))\n",
    "print(\"EPITHELIOID COUNT IN VALIDATION IMAGES :\",len(val_epi_fold1))\n",
    "print(\"NONEPITHELIOID COUNT IN VALIDATION IMAGES :\",len(val_nonepi_fold1))"
   ]
  },
  {
   "cell_type": "markdown",
   "metadata": {},
   "source": [
    "FOLD2 "
   ]
  },
  {
   "cell_type": "code",
   "execution_count": 8,
   "metadata": {},
   "outputs": [
    {
     "name": "stdout",
     "output_type": "stream",
     "text": [
      "WHOLE SLIDE IMAGES IN TRAIN DATASET FOLD2: 92\n",
      "EPITHELIOID COUNT IN TRAIN IMAGES : 67\n",
      "NONEPITHELIOID COUNT IN TRAIN IMAGES : 25\n",
      "----------------------------------------------------------------\n",
      "WHOLE SLIDE IMAGES IN VALIDATION DATASET FOLD2: 47\n",
      "EPITHELIOID COUNT IN VALIDATION IMAGES : 34\n",
      "NONEPITHELIOID COUNT IN VALIDATION IMAGES : 13\n"
     ]
    }
   ],
   "source": [
    "valfold1_list = []\n",
    "trainfold1_list = []\n",
    "train_epi_fold1 = []\n",
    "train_nonepi_fold1 = []\n",
    "val_epi_fold1 = []\n",
    "val_nonepi_fold1 = []\n",
    "folder_pattern = \"*TCGA-*\"\n",
    "for path,subdir,files in os.walk(\"Desktop/new_dataset/FOLD1/Validation\"):\n",
    "    if (fnmatch.fnmatch(path,folder_pattern)):\n",
    "            x = os.path.basename(os.path.normpath(path))\n",
    "            valfold1_list.append(x)\n",
    "            if 'Epithelioid' in path:\n",
    "                val_epi_fold1.append(x)\n",
    "            elif 'Nonepithelioid' in path:\n",
    "                val_nonepi_fold1.append(x)\n",
    "            \n",
    "for path,subdir,files in os.walk(\"Desktop/new_dataset/FOLD1/Train\"):\n",
    "    if (fnmatch.fnmatch(path,folder_pattern)):\n",
    "            x = os.path.basename(os.path.normpath(path))\n",
    "            trainfold1_list.append(x)\n",
    "            if 'Epithelioid' in path:\n",
    "                train_epi_fold1.append(x)\n",
    "            elif 'Nonepithelioid' in path:\n",
    "                train_nonepi_fold1.append(x)\n",
    "            \n",
    "\n",
    "print(\"WHOLE SLIDE IMAGES IN TRAIN DATASET FOLD2:\",len(trainfold1_list))\n",
    "print(\"EPITHELIOID COUNT IN TRAIN IMAGES :\",len(train_epi_fold1))\n",
    "print(\"NONEPITHELIOID COUNT IN TRAIN IMAGES :\",len(train_nonepi_fold1))\n",
    "print(\"----------------------------------------------------------------\")\n",
    "print(\"WHOLE SLIDE IMAGES IN VALIDATION DATASET FOLD2:\",len(valfold1_list))\n",
    "print(\"EPITHELIOID COUNT IN VALIDATION IMAGES :\",len(val_epi_fold1))\n",
    "print(\"NONEPITHELIOID COUNT IN VALIDATION IMAGES :\",len(val_nonepi_fold1))"
   ]
  },
  {
   "cell_type": "markdown",
   "metadata": {},
   "source": [
    "FOLD 3"
   ]
  },
  {
   "cell_type": "code",
   "execution_count": 6,
   "metadata": {},
   "outputs": [
    {
     "name": "stdout",
     "output_type": "stream",
     "text": [
      "WHOLE SLIDE IMAGES IN TRAIN DATASET FOLD3: 93\n",
      "EPITHELIOID COUNT IN TRAIN IMAGES : 69\n",
      "NONEPITHELIOID COUNT IN TRAIN IMAGES : 24\n",
      "----------------------------------------------------------------\n",
      "WHOLE SLIDE IMAGES IN VALIDATION DATASET FOLD3: 46\n",
      "EPITHELIOID COUNT IN VALIDATION IMAGES : 32\n",
      "NONEPITHELIOID COUNT IN VALIDATION IMAGES : 14\n"
     ]
    }
   ],
   "source": [
    "\n",
    "valfold1_list = []\n",
    "trainfold1_list = []\n",
    "train_epi_fold1 = []\n",
    "train_nonepi_fold1 = []\n",
    "val_epi_fold1 = []\n",
    "val_nonepi_fold1 = []\n",
    "folder_pattern = \"*TCGA-*\"\n",
    "for path,subdir,files in os.walk(\"Desktop/new_dataset/FOLD3/Validation\"):\n",
    "    if (fnmatch.fnmatch(path,folder_pattern)):\n",
    "            x = os.path.basename(os.path.normpath(path))\n",
    "            valfold1_list.append(x)\n",
    "            if 'Epithelioid' in path:\n",
    "                val_epi_fold1.append(x)\n",
    "            elif 'Nonepithelioid' in path:\n",
    "                val_nonepi_fold1.append(x)\n",
    "            \n",
    "for path,subdir,files in os.walk(\"Desktop/new_dataset/FOLD3/Train\"):\n",
    "    if (fnmatch.fnmatch(path,folder_pattern)):\n",
    "            x = os.path.basename(os.path.normpath(path))\n",
    "            trainfold1_list.append(x)\n",
    "            if 'Epithelioid' in path:\n",
    "                train_epi_fold1.append(x)\n",
    "            elif 'Nonepithelioid' in path:\n",
    "                train_nonepi_fold1.append(x)\n",
    "            \n",
    "\n",
    "print(\"WHOLE SLIDE IMAGES IN TRAIN DATASET FOLD3:\",len(trainfold1_list))\n",
    "print(\"EPITHELIOID COUNT IN TRAIN IMAGES :\",len(train_epi_fold1))\n",
    "print(\"NONEPITHELIOID COUNT IN TRAIN IMAGES :\",len(train_nonepi_fold1))\n",
    "print(\"----------------------------------------------------------------\")\n",
    "print(\"WHOLE SLIDE IMAGES IN VALIDATION DATASET FOLD3:\",len(valfold1_list))\n",
    "print(\"EPITHELIOID COUNT IN VALIDATION IMAGES :\",len(val_epi_fold1))\n",
    "print(\"NONEPITHELIOID COUNT IN VALIDATION IMAGES :\",len(val_nonepi_fold1))"
   ]
  },
  {
   "cell_type": "code",
   "execution_count": null,
   "metadata": {},
   "outputs": [],
   "source": []
  }
 ],
 "metadata": {
  "kernelspec": {
   "display_name": "Python 3",
   "language": "python",
   "name": "python3"
  },
  "language_info": {
   "codemirror_mode": {
    "name": "ipython",
    "version": 3
   },
   "file_extension": ".py",
   "mimetype": "text/x-python",
   "name": "python",
   "nbconvert_exporter": "python",
   "pygments_lexer": "ipython3",
   "version": "3.7.7"
  }
 },
 "nbformat": 4,
 "nbformat_minor": 4
}
